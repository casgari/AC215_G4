{
  "cells": [
    {
      "cell_type": "code",
      "execution_count": 88,
      "id": "911b06d3-3f15-405c-924c-910b9e5f498d",
      "metadata": {
        "id": "911b06d3-3f15-405c-924c-910b9e5f498d"
      },
      "outputs": [],
      "source": [
        "# !pip install -q wandb\n",
        "# !pip install datasets\n",
        "# !pip install seqeval\n",
        "# !pip install evaluate\n",
        "# !pip install datasets transformers==4.28.0\n",
        "# !pip install transformers[torch]\n",
        "import pandas as pd\n",
        "from datasets import load_dataset\n",
        "import numpy as np\n",
        "from transformers import AutoTokenizer\n",
        "from transformers import AutoModelForTokenClassification, TrainingArguments, Trainer\n",
        "from transformers import DataCollatorForTokenClassification\n",
        "import evaluate\n",
        "import matplotlib.pyplot as plt\n",
        "import torch\n",
        "from collections import Counter\n",
        "from tqdm import tqdm\n",
        "import wandb\n",
        "import time\n",
        "\n"
      ]
    },
    {
      "cell_type": "markdown",
      "id": "b6818692-af1f-4b2e-b2ea-f73922a3c779",
      "metadata": {
        "id": "b6818692-af1f-4b2e-b2ea-f73922a3c779"
      },
      "source": [
        "# Preprocess Data"
      ]
    },
    {
      "cell_type": "markdown",
      "id": "39819887-1117-475c-af95-9711c061aa09",
      "metadata": {
        "id": "39819887-1117-475c-af95-9711c061aa09"
      },
      "source": [
        "## Loading in Inspec Dataset with samples"
      ]
    },
    {
      "cell_type": "code",
      "execution_count": 2,
      "id": "a7929f88-eb56-4d6d-88a9-8c0683a1f49b",
      "metadata": {
        "colab": {
          "base_uri": "https://localhost:8080/"
        },
        "id": "a7929f88-eb56-4d6d-88a9-8c0683a1f49b",
        "outputId": "43c6e28c-372a-42e8-b2e2-b3e2cf3d3b9d"
      },
      "outputs": [
        {
          "name": "stderr",
          "output_type": "stream",
          "text": [
            "Repo card metadata block was not found. Setting CardData to empty.\n",
            "WARNING:huggingface_hub.repocard:Repo card metadata block was not found. Setting CardData to empty.\n"
          ]
        },
        {
          "name": "stdout",
          "output_type": "stream",
          "text": [
            "Samples for Keyphrase Extraction\n",
            "\n",
            "Sample from training data split\n",
            "Fields in the sample:  ['id', 'document', 'doc_bio_tags']\n",
            "Tokenized Document:  ['A', 'conflict', 'between', 'language', 'and', 'atomistic', 'information', 'Fred', 'Dretske', 'and', 'Jerry', 'Fodor', 'are', 'responsible', 'for', 'popularizing', 'three', 'well-known', 'theses', 'in', 'contemporary', 'philosophy', 'of', 'mind', ':', 'the', 'thesis', 'of', 'Information-Based', 'Semantics', '-LRB-', 'IBS', '-RRB-', ',', 'the', 'thesis', 'of', 'Content', 'Atomism', '-LRB-', 'Atomism', '-RRB-', 'and', 'the', 'thesis', 'of', 'the', 'Language', 'of', 'Thought', '-LRB-', 'LOT', '-RRB-', '.', 'LOT', 'concerns', 'the', 'semantically', 'relevant', 'structure', 'of', 'representations', 'involved', 'in', 'cognitive', 'states', 'such', 'as', 'beliefs', 'and', 'desires', '.', 'It', 'maintains', 'that', 'all', 'such', 'representations', 'must', 'have', 'syntactic', 'structures', 'mirroring', 'the', 'structure', 'of', 'their', 'contents', '.', 'IBS', 'is', 'a', 'thesis', 'about', 'the', 'nature', 'of', 'the', 'relations', 'that', 'connect', 'cognitive', 'representations', 'and', 'their', 'parts', 'to', 'their', 'contents', '-LRB-', 'semantic', 'relations', '-RRB-', '.', 'It', 'holds', 'that', 'these', 'relations', 'supervene', 'solely', 'on', 'relations', 'of', 'the', 'kind', 'that', 'support', 'information', 'content', ',', 'perhaps', 'with', 'some', 'help', 'from', 'logical', 'principles', 'of', 'combination', '.', 'Atomism', 'is', 'a', 'thesis', 'about', 'the', 'nature', 'of', 'the', 'content', 'of', 'simple', 'symbols', '.', 'It', 'holds', 'that', 'each', 'substantive', 'simple', 'symbol', 'possesses', 'its', 'content', 'independently', 'of', 'all', 'other', 'symbols', 'in', 'the', 'representational', 'system', '.', 'I', 'argue', 'that', 'Dretske', \"'s\", 'and', 'Fodor', \"'s\", 'theories', 'are', 'false', 'and', 'that', 'their', 'falsehood', 'results', 'from', 'a', 'conflict', 'IBS', 'and', 'Atomism', ',', 'on', 'the', 'one', 'hand', ',', 'and', 'LOT', ',', 'on', 'the', 'other']\n",
            "Document BIO Tags:  ['O', 'O', 'O', 'O', 'O', 'O', 'O', 'O', 'O', 'O', 'O', 'O', 'O', 'O', 'O', 'O', 'O', 'O', 'O', 'O', 'O', 'B', 'I', 'I', 'O', 'O', 'O', 'O', 'O', 'O', 'O', 'B', 'O', 'O', 'O', 'O', 'O', 'B', 'I', 'O', 'O', 'O', 'O', 'O', 'O', 'O', 'O', 'B', 'I', 'I', 'O', 'B', 'O', 'O', 'B', 'O', 'O', 'O', 'O', 'O', 'O', 'O', 'O', 'O', 'B', 'I', 'O', 'O', 'B', 'O', 'B', 'O', 'O', 'O', 'O', 'O', 'O', 'O', 'O', 'O', 'O', 'O', 'O', 'O', 'O', 'O', 'O', 'O', 'O', 'B', 'O', 'O', 'O', 'O', 'O', 'O', 'O', 'O', 'O', 'O', 'O', 'O', 'O', 'O', 'O', 'O', 'O', 'O', 'O', 'O', 'O', 'O', 'O', 'O', 'O', 'O', 'O', 'O', 'O', 'O', 'O', 'O', 'O', 'O', 'O', 'O', 'O', 'O', 'O', 'O', 'O', 'O', 'O', 'O', 'O', 'O', 'O', 'O', 'O', 'O', 'O', 'O', 'O', 'O', 'O', 'O', 'O', 'O', 'O', 'O', 'O', 'O', 'O', 'O', 'O', 'O', 'O', 'O', 'O', 'O', 'O', 'O', 'O', 'O', 'O', 'O', 'O', 'O', 'O', 'O', 'O', 'O', 'O', 'O', 'O', 'O', 'O', 'O', 'O', 'O', 'O', 'O', 'O', 'O', 'O', 'O', 'O', 'O', 'O', 'O', 'O', 'O', 'O', 'O', 'B', 'O', 'O', 'O', 'O', 'O', 'O', 'O', 'O', 'O', 'B', 'O', 'O', 'O', 'O']\n",
            "\n",
            "-----------\n",
            "\n",
            "Sample from validation data split\n",
            "Fields in the sample:  ['id', 'document', 'doc_bio_tags']\n",
            "Tokenized Document:  ['Impact', 'of', 'aviation', 'highway-in-the-sky', 'displays', 'on', 'pilot', 'situation', 'awareness', 'Thirty-six', 'pilots', '-LRB-', '31', 'men', ',', '5', 'women', '-RRB-', 'were', 'tested', 'in', 'a', 'flight', 'simulator', 'on', 'their', 'ability', 'to', 'intercept', 'a', 'pathway', 'depicted', 'on', 'a', 'highway-in-the-sky', '-LRB-', 'HITS', '-RRB-', 'display', '.', 'While', 'intercepting', 'and', 'flying', 'the', 'pathway', ',', 'pilots', 'were', 'required', 'to', 'watch', 'for', 'traffic', 'outside', 'the', 'cockpit', '.', 'Additionally', ',', 'pilots', 'were', 'tested', 'on', 'their', 'awareness', 'of', 'speed', ',', 'altitude', ',', 'and', 'heading', 'during', 'the', 'flight', '.', 'Results', 'indicated', 'that', 'the', 'presence', 'of', 'a', 'flight', 'guidance', 'cue', 'significantly', 'improved', 'flight', 'path', 'awareness', 'while', 'intercepting', 'the', 'pathway', ',', 'but', 'significant', 'practice', 'effects', 'suggest', 'that', 'a', 'guidance', 'cue', 'might', 'be', 'unnecessary', 'if', 'pilots', 'are', 'given', 'proper', 'training', '.', 'The', 'amount', 'of', 'time', 'spent', 'looking', 'outside', 'the', 'cockpit', 'while', 'using', 'the', 'HITS', 'display', 'was', 'significantly', 'less', 'than', 'when', 'using', 'conventional', 'aircraft', 'instruments', '.', 'Additionally', ',', 'awareness', 'of', 'flight', 'information', 'present', 'on', 'the', 'HITS', 'display', 'was', 'poor', '.', 'Actual', 'or', 'potential', 'applications', 'of', 'this', 'research', 'include', 'guidance', 'for', 'the', 'development', 'of', 'perspective', 'flight', 'display', 'standards', 'and', 'as', 'a', 'basis', 'for', 'flight', 'training', 'requirements']\n",
            "Document BIO Tags:  ['O', 'O', 'O', 'O', 'O', 'O', 'O', 'B', 'I', 'O', 'B', 'O', 'O', 'O', 'O', 'O', 'O', 'O', 'O', 'O', 'O', 'O', 'B', 'I', 'O', 'O', 'O', 'O', 'O', 'O', 'O', 'O', 'O', 'O', 'O', 'O', 'O', 'O', 'O', 'O', 'O', 'O', 'O', 'O', 'O', 'O', 'O', 'B', 'O', 'O', 'O', 'O', 'O', 'O', 'O', 'O', 'B', 'O', 'O', 'O', 'B', 'O', 'O', 'O', 'O', 'O', 'O', 'O', 'O', 'O', 'O', 'O', 'O', 'O', 'O', 'O', 'O', 'O', 'O', 'O', 'O', 'O', 'O', 'O', 'B', 'I', 'O', 'O', 'O', 'B', 'I', 'I', 'O', 'O', 'O', 'O', 'O', 'O', 'O', 'O', 'O', 'O', 'O', 'O', 'O', 'O', 'O', 'O', 'O', 'O', 'B', 'O', 'O', 'O', 'O', 'O', 'O', 'O', 'O', 'O', 'O', 'O', 'O', 'O', 'B', 'O', 'O', 'O', 'O', 'O', 'O', 'O', 'O', 'O', 'O', 'O', 'O', 'O', 'O', 'O', 'O', 'O', 'O', 'O', 'O', 'O', 'O', 'O', 'O', 'O', 'O', 'O', 'O', 'O', 'O', 'O', 'O', 'O', 'O', 'O', 'O', 'O', 'O', 'O', 'O', 'O', 'O', 'O', 'O', 'O', 'O', 'O', 'O', 'O', 'O', 'O', 'O', 'O', 'O']\n",
            "\n",
            "-----------\n",
            "\n",
            "Sample from test data split\n",
            "Fields in the sample:  ['id', 'document', 'doc_bio_tags']\n",
            "Tokenized Document:  ['A', 'new', 'graphical', 'user', 'interface', 'for', 'fast', 'construction', 'of', 'computation', 'phantoms', 'and', 'MCNP', 'calculations', ':', 'application', 'to', 'calibration', 'of', 'in', 'vivo', 'measurement', 'systems', 'Reports', 'on', 'a', 'new', 'utility', 'for', 'development', 'of', 'computational', 'phantoms', 'for', 'Monte', 'Carlo', 'calculations', 'and', 'data', 'analysis', 'for', 'in', 'vivo', 'measurements', 'of', 'radionuclides', 'deposited', 'in', 'tissues', '.', 'The', 'individual', 'properties', 'of', 'each', 'worker', 'can', 'be', 'acquired', 'for', 'a', 'rather', 'precise', 'geometric', 'representation', 'of', 'his', '-LRB-', 'her', '-RRB-', 'anatomy', ',', 'which', 'is', 'particularly', 'important', 'for', 'low', 'energy', 'gamma', 'ray', 'emitting', 'sources', 'such', 'as', 'thorium', ',', 'uranium', ',', 'plutonium', 'and', 'other', 'actinides', '.', 'The', 'software', 'enables', 'automatic', 'creation', 'of', 'an', 'MCNP', 'input', 'data', 'file', 'based', 'on', 'scanning', 'data', '.', 'The', 'utility', 'includes', 'segmentation', 'of', 'images', 'obtained', 'with', 'either', 'computed', 'tomography', 'or', 'magnetic', 'resonance', 'imaging', 'by', 'distinguishing', 'tissues', 'according', 'to', 'their', 'signal', '-LRB-', 'brightness', '-RRB-', 'and', 'specification', 'of', 'the', 'source', 'and', 'detector', '.', 'In', 'addition', ',', 'a', 'coupling', 'of', 'individual', 'voxels', 'within', 'the', 'tissue', 'is', 'used', 'to', 'reduce', 'the', 'memory', 'demand', 'and', 'to', 'increase', 'the', 'calculational', 'speed', '.', 'The', 'utility', 'was', 'tested', 'for', 'low', 'energy', 'emitters', 'in', 'plastic', 'and', 'biological', 'tissues', 'as', 'well', 'as', 'for', 'computed', 'tomography', 'and', 'magnetic', 'resonance', 'imaging', 'scanning', 'information']\n",
            "Document BIO Tags:  ['O', 'O', 'B', 'I', 'I', 'O', 'O', 'O', 'O', 'B', 'I', 'O', 'O', 'O', 'O', 'O', 'O', 'B', 'O', 'B', 'I', 'I', 'I', 'O', 'O', 'O', 'O', 'O', 'O', 'O', 'O', 'B', 'I', 'O', 'B', 'I', 'I', 'O', 'O', 'O', 'O', 'B', 'I', 'I', 'O', 'B', 'O', 'O', 'B', 'O', 'O', 'O', 'O', 'O', 'O', 'B', 'O', 'O', 'O', 'O', 'O', 'O', 'B', 'I', 'I', 'O', 'O', 'O', 'O', 'O', 'B', 'O', 'O', 'O', 'O', 'O', 'O', 'B', 'I', 'I', 'I', 'I', 'I', 'O', 'O', 'O', 'O', 'O', 'O', 'O', 'O', 'O', 'B', 'O', 'O', 'B', 'O', 'B', 'I', 'O', 'O', 'B', 'I', 'I', 'I', 'O', 'O', 'B', 'I', 'O', 'O', 'O', 'O', 'O', 'O', 'O', 'O', 'O', 'O', 'B', 'I', 'O', 'O', 'O', 'O', 'O', 'O', 'B', 'O', 'O', 'O', 'B', 'O', 'B', 'O', 'O', 'O', 'O', 'O', 'O', 'O', 'B', 'O', 'O', 'O', 'O', 'O', 'O', 'O', 'B', 'I', 'O', 'O', 'O', 'O', 'O', 'O', 'O', 'O', 'B', 'I', 'O', 'O', 'O', 'O', 'B', 'I', 'O', 'O', 'O', 'O', 'O', 'O', 'O', 'O', 'O', 'O', 'B', 'O', 'O', 'B', 'O', 'O', 'O', 'O', 'B', 'I', 'O', 'B', 'I', 'I', 'I', 'I']\n",
            "\n",
            "-----------\n",
            "\n",
            "Type of each dataset: <class 'datasets.arrow_dataset.Dataset'>\n"
          ]
        }
      ],
      "source": [
        "dataset = load_dataset(\"midas/inspec\", \"extraction\")\n",
        "\n",
        "\n",
        "print(\"Samples for Keyphrase Extraction\\n\")\n",
        "\n",
        "# sample from the train split\n",
        "print(\"Sample from training data split\")\n",
        "train_sample = dataset[\"train\"][0]\n",
        "print(\"Fields in the sample: \", [key for key in train_sample.keys()])\n",
        "print(\"Tokenized Document: \", train_sample[\"document\"])\n",
        "print(\"Document BIO Tags: \", train_sample[\"doc_bio_tags\"])\n",
        "print(\"\\n-----------\\n\")\n",
        "\n",
        "# sample from the validation split\n",
        "print(\"Sample from validation data split\")\n",
        "validation_sample = dataset[\"validation\"][0]\n",
        "print(\"Fields in the sample: \", [key for key in validation_sample.keys()])\n",
        "print(\"Tokenized Document: \", validation_sample[\"document\"])\n",
        "print(\"Document BIO Tags: \", validation_sample[\"doc_bio_tags\"])\n",
        "print(\"\\n-----------\\n\")\n",
        "\n",
        "# sample from the test split\n",
        "print(\"Sample from test data split\")\n",
        "test_sample = dataset[\"test\"][0]\n",
        "print(\"Fields in the sample: \", [key for key in test_sample.keys()])\n",
        "print(\"Tokenized Document: \", test_sample[\"document\"])\n",
        "print(\"Document BIO Tags: \", test_sample[\"doc_bio_tags\"])\n",
        "print(\"\\n-----------\\n\")\n",
        "print('Type of each dataset:', type(dataset[\"train\"]))"
      ]
    },
    {
      "cell_type": "code",
      "execution_count": 3,
      "id": "5680b1c6-ac6f-46ff-8be9-717d268cbdbe",
      "metadata": {
        "colab": {
          "base_uri": "https://localhost:8080/"
        },
        "id": "5680b1c6-ac6f-46ff-8be9-717d268cbdbe",
        "outputId": "dd4f30fb-d31a-4c7f-e4b1-f8dc98cf4021"
      },
      "outputs": [
        {
          "name": "stdout",
          "output_type": "stream",
          "text": [
            "Mapping doc_bio_tag to integer:\n",
            "\n",
            " {'B': 0, 'I': 1, 'O': 2}\n",
            "\n",
            "Mapping integer to doc_bio_tag:\n",
            "\n",
            " {0: 'B', 1: 'I', 2: 'O'}\n"
          ]
        }
      ],
      "source": [
        "label_list = np.unique(train_sample[\"doc_bio_tags\"])\n",
        "\n",
        "id2label = {i: label for i, label in enumerate(label_list)}\n",
        "label2id = {v: k for k, v in id2label.items()}\n",
        "\n",
        "print('Mapping doc_bio_tag to integer:\\n\\n',label2id)\n",
        "print('\\nMapping integer to doc_bio_tag:\\n\\n',id2label)"
      ]
    },
    {
      "cell_type": "markdown",
      "id": "e8790832-9e32-42af-91c1-712dafc4797d",
      "metadata": {
        "id": "e8790832-9e32-42af-91c1-712dafc4797d"
      },
      "source": [
        "## Specifying the base model we want"
      ]
    },
    {
      "cell_type": "code",
      "execution_count": 63,
      "id": "304da274-63cb-4b46-8abd-4972399fdfab",
      "metadata": {
        "id": "304da274-63cb-4b46-8abd-4972399fdfab"
      },
      "outputs": [],
      "source": [
        "#model_checkpoint = \"distilroberta-base\"\n",
        "model_checkpoint = \"distilbert-base-uncased\""
      ]
    },
    {
      "cell_type": "code",
      "execution_count": 64,
      "id": "IsIKZ2KnCcsR",
      "metadata": {
        "colab": {
          "base_uri": "https://localhost:8080/"
        },
        "id": "IsIKZ2KnCcsR",
        "outputId": "a21aaf2d-c7f5-41ac-ab0b-a53776f37ed5"
      },
      "outputs": [
        {
          "name": "stdout",
          "output_type": "stream",
          "text": [
            "Pytorch version: 2.0.1+cu118\n",
            "Device name: Tesla T4\n"
          ]
        }
      ],
      "source": [
        "#checking to see if we have gpus\n",
        "if torch.cuda.is_available():\n",
        "    device = torch.device(\"cuda\")\n",
        "    print(f\"Pytorch version: {torch.__version__}\")\n",
        "    print(f\"Device name: {torch.cuda.get_device_name(0)}\")\n",
        "else:\n",
        "    device = torch.device(\"cpu\")\n",
        "    print(\"No GPU available.\")"
      ]
    },
    {
      "cell_type": "markdown",
      "id": "34ae57ba-ad7a-4982-8ea3-10656430061c",
      "metadata": {
        "id": "34ae57ba-ad7a-4982-8ea3-10656430061c"
      },
      "source": [
        "## Getting the same tokenizer that was used in the pre-trained model to preprocess text"
      ]
    },
    {
      "cell_type": "markdown",
      "id": "c739b52d-d3d3-4b38-b36d-e977c6d6e234",
      "metadata": {
        "id": "c739b52d-d3d3-4b38-b36d-e977c6d6e234"
      },
      "source": [
        "General Info:\n",
        "\n",
        "A tokenizer breaks unstructured data and natural language text into chunks of information that can be considered as discrete elements.\n",
        "\n",
        "We use add_prefix_space = True to specify that we want to add a space to the first word if there isn’t already one. This lets us treat 'hello' exactly like 'say hello'.\n",
        "\n",
        "Although the documents are already tokenized, we want to make sure that the tokenization matches the one that our pre-trained model is expecting."
      ]
    },
    {
      "cell_type": "code",
      "execution_count": 65,
      "id": "dbf2d836-43af-41d8-8cc0-3ddccf926b82",
      "metadata": {
        "colab": {
          "base_uri": "https://localhost:8080/",
          "height": 162,
          "referenced_widgets": [
            "9a695264d8d1434c9fe0465b8d90ad8c",
            "d6ec06cbcb13488da766d8ca93f507c5",
            "88d624c525ab4d76b07bdb32ec767f1b",
            "e56225310d40490aacbeed68b109c339",
            "e0ce7c789bae466294df9ae2390016ee",
            "6a7e1e75698b48bb81cfe35a5d40c3db",
            "b7d13acfa797419c9d716801cfccd464",
            "3c78c249217c4928beaf64b279d0068f",
            "ac5505c49488470995c34d9f98b5c40e",
            "2c9e7107896e4b53aaaf7176ae3bee41",
            "b32342335a5046edb964d589aa48feb1",
            "04c2a8a14a9b427088abe832475af4c2",
            "8f073925b2de42618109b3e9801677f0",
            "dc85e3d397e5439a96c316b26050ee17",
            "9098728928ae41b59a7d417973b6cf18",
            "26ecc09414894db6a3edfbbf829b4ead",
            "fa3d37d80cc3452b91cc4e94a2702918",
            "df2f0676b2004a3aa5234ff0acbc8fdc",
            "4c20c73f7f644f6fb07fa1244013963b",
            "4d50ecc4b756448f9957c295802cacbe",
            "9aa5786e367a4e1e997390d9f9cbca44",
            "0e940f115501424f9d68f7596629c61e",
            "38b91ea07c5748bf8497cf8896e8b387",
            "bb3d5b0b10794d96995857cd9cf77e06",
            "2b4770356acf4b6eb3de9488252e86e6",
            "5a6431da151743028d7143378ea036a1",
            "dd908f1c87ed40c1868206d734a02e63",
            "34c7d26c6f6147a482dd8f6b713bf74c",
            "a247837183d0447aaabea845c0c9e4e1",
            "5bc87edf806e4e278ad4d00053cec996",
            "082edcd95815492c84a769ebc1b126b4",
            "aa57669056f243db941046d1dfbfa659",
            "1001e419096b4824be34f9be66a69a17",
            "5523fcf033ef4889ae4c4a08459789de",
            "45b39c51e9e841fdac8bd0f5e79205fe",
            "a0b12fb829d0404da5d6601839b0f4f7",
            "d16053106a9b4a05875e82afd8ed1aec",
            "7937e13422e64d3f96ca03b6d871ab17",
            "47cc67b7824a4b08bd0191a80d272c2b",
            "60936396d7734892af1534a0e6c4ef77",
            "8cf2b83cfd9b448589fbeceb2705e34b",
            "ea2f5f7af4fd40e0b21b61fbc84cf880",
            "ed85a190acfa4048939c20bf8e2aaea8",
            "7c549d20cc45464392249e8c39cba0fe"
          ]
        },
        "id": "dbf2d836-43af-41d8-8cc0-3ddccf926b82",
        "outputId": "a20207d1-ccb3-41b2-d427-0a80244d0367"
      },
      "outputs": [
        {
          "data": {
            "application/vnd.jupyter.widget-view+json": {
              "model_id": "9a695264d8d1434c9fe0465b8d90ad8c",
              "version_major": 2,
              "version_minor": 0
            },
            "text/plain": [
              "Downloading (…)okenizer_config.json:   0%|          | 0.00/28.0 [00:00<?, ?B/s]"
            ]
          },
          "metadata": {},
          "output_type": "display_data"
        },
        {
          "data": {
            "application/vnd.jupyter.widget-view+json": {
              "model_id": "04c2a8a14a9b427088abe832475af4c2",
              "version_major": 2,
              "version_minor": 0
            },
            "text/plain": [
              "Downloading (…)lve/main/config.json:   0%|          | 0.00/483 [00:00<?, ?B/s]"
            ]
          },
          "metadata": {},
          "output_type": "display_data"
        },
        {
          "data": {
            "application/vnd.jupyter.widget-view+json": {
              "model_id": "38b91ea07c5748bf8497cf8896e8b387",
              "version_major": 2,
              "version_minor": 0
            },
            "text/plain": [
              "Downloading (…)solve/main/vocab.txt:   0%|          | 0.00/232k [00:00<?, ?B/s]"
            ]
          },
          "metadata": {},
          "output_type": "display_data"
        },
        {
          "data": {
            "application/vnd.jupyter.widget-view+json": {
              "model_id": "5523fcf033ef4889ae4c4a08459789de",
              "version_major": 2,
              "version_minor": 0
            },
            "text/plain": [
              "Downloading (…)/main/tokenizer.json:   0%|          | 0.00/466k [00:00<?, ?B/s]"
            ]
          },
          "metadata": {},
          "output_type": "display_data"
        },
        {
          "data": {
            "text/plain": [
              "True"
            ]
          },
          "execution_count": 65,
          "metadata": {},
          "output_type": "execute_result"
        }
      ],
      "source": [
        "tokenizer = AutoTokenizer.from_pretrained(model_checkpoint, add_prefix_space=True)\n",
        "#check to make sure tokenizer has fast version available\n",
        "tokenizer.is_fast"
      ]
    },
    {
      "cell_type": "markdown",
      "id": "bb65fbc7-dcd5-44e5-adda-afb841b6904f",
      "metadata": {
        "id": "bb65fbc7-dcd5-44e5-adda-afb841b6904f"
      },
      "source": [
        "## Convert BIO tags of words to numerical labels (1,2, or 0) corresponding to tokens"
      ]
    },
    {
      "cell_type": "markdown",
      "id": "343af5e1-1131-4ac5-b4f7-0281f7eafe20",
      "metadata": {
        "id": "343af5e1-1131-4ac5-b4f7-0281f7eafe20"
      },
      "source": [
        "Each word in the document gets converted into a token/multiple tokens. After the word is converted into a token we need to assign that token a classification index corresponding to the BIO tag of the word.  This is done with the function below.\n",
        "\n",
        "see https://huggingface.co/docs/transformers/tasks/token_classification"
      ]
    },
    {
      "cell_type": "code",
      "execution_count": 66,
      "id": "61029f0c-dac1-4758-be16-840544e46e51",
      "metadata": {
        "id": "61029f0c-dac1-4758-be16-840544e46e51"
      },
      "outputs": [],
      "source": [
        "def tokenize_words_with_corresponding_labels(sample):\n",
        "\n",
        "    tokenizer = AutoTokenizer.from_pretrained(model_checkpoint, add_prefix_space=True)\n",
        "\n",
        "    #truncation=True to specify to truncate sequences at the maximum length\n",
        "    #is_split_into_words = True to specify that our input is already pre-tokenized (e.g., split into words)\n",
        "    tokenized_inputs = tokenizer(sample[\"document\"], truncation=True, is_split_into_words=True)\n",
        "\n",
        "    #initialize list to store lists of labels for each sample\n",
        "    labels = []\n",
        "\n",
        "    for i, label in enumerate(sample[\"doc_bio_tags\"]):\n",
        "\n",
        "        #map tokens to their respective word\n",
        "        #word_ids() method gets index of the word that each token comes from\n",
        "        word_ids = tokenized_inputs.word_ids(batch_index=i)\n",
        "\n",
        "        #initialize list of labels for each token in a given sample\n",
        "        label_ids = []\n",
        "\n",
        "        for word_idx in word_ids:\n",
        "\n",
        "            #set the special tokens, [CLS] and [SEP], to -100.\n",
        "            # we use -100 because it's an index that is ignored in the loss function we will use (cross entropy).\n",
        "            if word_idx is None:\n",
        "                label_ids.append(-100)\n",
        "\n",
        "            #set labels for tokens\n",
        "            else:\n",
        "                label_ids.append(label2id[label[word_idx]])\n",
        "\n",
        "        labels.append(label_ids)\n",
        "\n",
        "    tokenized_inputs[\"labels\"] = labels\n",
        "\n",
        "    return tokenized_inputs"
      ]
    },
    {
      "cell_type": "code",
      "execution_count": 67,
      "id": "edc24acb-bfee-4c5a-96e3-3cd75acff241",
      "metadata": {
        "colab": {
          "base_uri": "https://localhost:8080/",
          "height": 113,
          "referenced_widgets": [
            "d26cef59f2c5490db82b34bd46980af3",
            "8af4d8c791644260b9c09a25c9d349e0",
            "befc5b1fc0cb4a99ace5443e100733ff",
            "8fd7be26384f4f00b24f1d01d5275283",
            "59e00649de2144f786004d823b456892",
            "12c15eb24b6d445389c7143a294946d0",
            "a67d963210754b059c06b3103a5926c0",
            "f7a020392faf4248868654bba155ad77",
            "7ab1e6c4ac8a425ab4e50db6e0ce1827",
            "7816c32462a548a190303e93c5636859",
            "38436008275c409da8fe6e4c064f360a",
            "d211400119db432e951ce3b1718973cf",
            "2b2c28ff5070482c8548d5c5b1c8d0f9",
            "6bfa35e1e92d4961aa9c25cf3ecd5086",
            "edd78b2ea00649369293384ed138d2c2",
            "bf34cc75ade444859c9e5ba7f7be30a8",
            "b30d7ce828b0454babb0da184764a2bf",
            "9c0e1c3b5d05407ebda6ad071def6a74",
            "8566784cbebc4fc1a6a92a34bf56def2",
            "387daf9403c44b47a369b9a2ccac07c6",
            "edfa7306c04d4f84b895bbd7e2e163b9",
            "c95fdeedff6c42e5be7ce9b1df5d1405",
            "b710015fba6a4d0f872282e837907e4b",
            "c80103426ad648668900f49c4918ca99",
            "c0dafae5e60c4fcdbb2b3accc33672f8",
            "4975ac2bc66f4f92ab530a052264f4ed",
            "9c08652198e141ca8af0c711b85f869c",
            "b7091b01c0b94be8b173aea58594cec9",
            "47914d71ddfc440795c1095359df5fa1",
            "2821b58e5aab4ec19188a4d6c6b420de",
            "f77b84e2a4024abf9a30b2f978ab6e70",
            "aa59d611e0b3487984839b12d092e015",
            "76672fd654384c29b784e464a4024c2a"
          ]
        },
        "id": "edc24acb-bfee-4c5a-96e3-3cd75acff241",
        "outputId": "8f17be6f-24fb-463f-fc7a-9abeb5f57005"
      },
      "outputs": [
        {
          "data": {
            "application/vnd.jupyter.widget-view+json": {
              "model_id": "d26cef59f2c5490db82b34bd46980af3",
              "version_major": 2,
              "version_minor": 0
            },
            "text/plain": [
              "Map:   0%|          | 0/1000 [00:00<?, ? examples/s]"
            ]
          },
          "metadata": {},
          "output_type": "display_data"
        },
        {
          "data": {
            "application/vnd.jupyter.widget-view+json": {
              "model_id": "d211400119db432e951ce3b1718973cf",
              "version_major": 2,
              "version_minor": 0
            },
            "text/plain": [
              "Map:   0%|          | 0/500 [00:00<?, ? examples/s]"
            ]
          },
          "metadata": {},
          "output_type": "display_data"
        },
        {
          "data": {
            "application/vnd.jupyter.widget-view+json": {
              "model_id": "b710015fba6a4d0f872282e837907e4b",
              "version_major": 2,
              "version_minor": 0
            },
            "text/plain": [
              "Map:   0%|          | 0/500 [00:00<?, ? examples/s]"
            ]
          },
          "metadata": {},
          "output_type": "display_data"
        }
      ],
      "source": [
        "tokenized_dataset = dataset.map(tokenize_words_with_corresponding_labels, batched=True)"
      ]
    },
    {
      "cell_type": "markdown",
      "id": "f1fee06f-e0c4-4dea-9256-fa00005956fe",
      "metadata": {
        "id": "f1fee06f-e0c4-4dea-9256-fa00005956fe"
      },
      "source": [
        "# Finetuning the model with the Trainer API"
      ]
    },
    {
      "cell_type": "markdown",
      "id": "a0bcb2a4-240c-446c-96f7-949ec2fc2af0",
      "metadata": {
        "id": "a0bcb2a4-240c-446c-96f7-949ec2fc2af0"
      },
      "source": [
        "Token classification with NLP on HuggingFace info\n",
        "\n",
        "https://huggingface.co/learn/nlp-course/chapter7/2"
      ]
    },
    {
      "cell_type": "markdown",
      "id": "3594e916-caee-45c2-8f15-331327ae7a94",
      "metadata": {
        "id": "3594e916-caee-45c2-8f15-331327ae7a94"
      },
      "source": [
        "## Data collator to pad inputs sequences and labels"
      ]
    },
    {
      "cell_type": "code",
      "execution_count": 68,
      "id": "67f2a398-cb91-491b-86fe-9ebe1cbcacf3",
      "metadata": {
        "id": "67f2a398-cb91-491b-86fe-9ebe1cbcacf3"
      },
      "outputs": [],
      "source": [
        "#dynamically pad the inputs received, as well as the labels to make them all the same length\n",
        "data_collator = DataCollatorForTokenClassification(tokenizer=tokenizer)\n"
      ]
    },
    {
      "cell_type": "markdown",
      "id": "9f917850-e54f-492e-a880-1905991fca03",
      "metadata": {
        "id": "9f917850-e54f-492e-a880-1905991fca03"
      },
      "source": [
        "## Track metrics during training\n",
        "\n",
        "To have the Trainer compute a metric every epoch, we will need to define a compute_metrics() function that takes the arrays of predictions and labels, and returns a dictionary with the metric names and values.\n",
        "\n",
        "This compute_metrics() function takes the argmax of the logits to convert them to predictions. Then we have to convert both labels and predictions from integers to strings. We remove all the values where the label is -100, then pass the results to the metric.compute() method."
      ]
    },
    {
      "cell_type": "code",
      "execution_count": 69,
      "id": "b3b7c0ac-4088-4d54-8472-0f23a4f0c98f",
      "metadata": {
        "id": "b3b7c0ac-4088-4d54-8472-0f23a4f0c98f"
      },
      "outputs": [],
      "source": [
        "metric = evaluate.load(\"seqeval\")"
      ]
    },
    {
      "cell_type": "code",
      "execution_count": 70,
      "id": "6eee463a-d93c-4404-a1bb-e551b889dd33",
      "metadata": {
        "id": "6eee463a-d93c-4404-a1bb-e551b889dd33"
      },
      "outputs": [],
      "source": [
        "def compute_metrics(preds):\n",
        "    logits, labels = preds\n",
        "    predictions = np.argmax(logits, axis=-1)\n",
        "\n",
        "    # Remove ignored index (special tokens) and convert to labels\n",
        "    true_labels = [[id2label[l] for l in label if l != -100] for label in labels]\n",
        "\n",
        "    true_predictions = [\n",
        "        [id2label[p] for (p, l) in zip(prediction, label) if l != -100]\n",
        "        for prediction, label in zip(predictions, labels)\n",
        "    ]\n",
        "    all_metrics = metric.compute(predictions=true_predictions, references=true_labels)\n",
        "    return all_metrics"
      ]
    },
    {
      "cell_type": "markdown",
      "id": "HiO9MN_aSM4e",
      "metadata": {
        "id": "HiO9MN_aSM4e"
      },
      "source": [
        "## Weights and Biases Login"
      ]
    },
    {
      "cell_type": "code",
      "execution_count": 90,
      "id": "Y28q_B3MSLxh",
      "metadata": {
        "colab": {
          "base_uri": "https://localhost:8080/",
          "height": 121
        },
        "id": "Y28q_B3MSLxh",
        "outputId": "57880d52-8c56-4ece-c703-c66341cfd323"
      },
      "outputs": [
        {
          "data": {
            "application/javascript": "\n        window._wandbApiKey = new Promise((resolve, reject) => {\n            function loadScript(url) {\n            return new Promise(function(resolve, reject) {\n                let newScript = document.createElement(\"script\");\n                newScript.onerror = reject;\n                newScript.onload = resolve;\n                document.body.appendChild(newScript);\n                newScript.src = url;\n            });\n            }\n            loadScript(\"https://cdn.jsdelivr.net/npm/postmate/build/postmate.min.js\").then(() => {\n            const iframe = document.createElement('iframe')\n            iframe.style.cssText = \"width:0;height:0;border:none\"\n            document.body.appendChild(iframe)\n            const handshake = new Postmate({\n                container: iframe,\n                url: 'https://wandb.ai/authorize'\n            });\n            const timeout = setTimeout(() => reject(\"Couldn't auto authenticate\"), 5000)\n            handshake.then(function(child) {\n                child.on('authorize', data => {\n                    clearTimeout(timeout)\n                    resolve(data)\n                });\n            });\n            })\n        });\n    ",
            "text/plain": [
              "<IPython.core.display.Javascript object>"
            ]
          },
          "metadata": {},
          "output_type": "display_data"
        },
        {
          "name": "stderr",
          "output_type": "stream",
          "text": [
            "\u001b[34m\u001b[1mwandb\u001b[0m: Logging into wandb.ai. (Learn how to deploy a W&B server locally: https://wandb.me/wandb-server)\n",
            "\u001b[34m\u001b[1mwandb\u001b[0m: You can find your API key in your browser here: https://wandb.ai/authorize\n",
            "wandb: Paste an API key from your profile and hit enter, or press ctrl+c to quit:"
          ]
        },
        {
          "name": "stdout",
          "output_type": "stream",
          "text": [
            " ··········\n"
          ]
        },
        {
          "name": "stderr",
          "output_type": "stream",
          "text": [
            "\u001b[34m\u001b[1mwandb\u001b[0m: Appending key for api.wandb.ai to your netrc file: /root/.netrc\n"
          ]
        },
        {
          "data": {
            "text/plain": [
              "True"
            ]
          },
          "execution_count": 90,
          "metadata": {},
          "output_type": "execute_result"
        }
      ],
      "source": [
        "# Login to W&B account\n",
        "wandb.login()"
      ]
    },
    {
      "cell_type": "markdown",
      "id": "d71e67d2-9a2b-431a-9af1-c34b3658abb0",
      "metadata": {
        "id": "d71e67d2-9a2b-431a-9af1-c34b3658abb0"
      },
      "source": [
        "## Defining the model"
      ]
    },
    {
      "cell_type": "code",
      "execution_count": 71,
      "id": "518bc291-ecd0-4395-8454-4ac01724143b",
      "metadata": {
        "id": "518bc291-ecd0-4395-8454-4ac01724143b"
      },
      "outputs": [],
      "source": [
        "#hacky way to get around AttributeError: module 'torch.distributed' has no attribute 'is_initialized' error\n",
        "#setattr(torch.distributed, \"is_initialized\", lambda : False)"
      ]
    },
    {
      "cell_type": "code",
      "execution_count": 93,
      "id": "a0eb9e1f-1ad1-47df-b284-5a83acc92d5e",
      "metadata": {
        "colab": {
          "base_uri": "https://localhost:8080/"
        },
        "id": "a0eb9e1f-1ad1-47df-b284-5a83acc92d5e",
        "outputId": "310945ff-318f-458a-8265-1d5acd172a5e"
      },
      "outputs": [
        {
          "name": "stderr",
          "output_type": "stream",
          "text": [
            "Some weights of the model checkpoint at distilbert-base-uncased were not used when initializing DistilBertForTokenClassification: ['vocab_layer_norm.bias', 'vocab_layer_norm.weight', 'vocab_projector.bias', 'vocab_transform.bias', 'vocab_transform.weight']\n",
            "- This IS expected if you are initializing DistilBertForTokenClassification from the checkpoint of a model trained on another task or with another architecture (e.g. initializing a BertForSequenceClassification model from a BertForPreTraining model).\n",
            "- This IS NOT expected if you are initializing DistilBertForTokenClassification from the checkpoint of a model that you expect to be exactly identical (initializing a BertForSequenceClassification model from a BertForSequenceClassification model).\n",
            "Some weights of DistilBertForTokenClassification were not initialized from the model checkpoint at distilbert-base-uncased and are newly initialized: ['classifier.weight', 'classifier.bias']\n",
            "You should probably TRAIN this model on a down-stream task to be able to use it for predictions and inference.\n"
          ]
        },
        {
          "name": "stdout",
          "output_type": "stream",
          "text": [
            "Number of labels: 3\n"
          ]
        }
      ],
      "source": [
        "torch.manual_seed(0)\n",
        "model_name = model_checkpoint.split(\"/\")[-1]\n",
        "\n",
        "\n",
        "model = AutoModelForTokenClassification.from_pretrained(model_checkpoint,\n",
        "                                                        id2label=id2label,\n",
        "                                                        label2id=label2id)\n",
        "#need GPU to train\n",
        "_ = model.to(device)\n",
        "\n",
        "#check to make sure we have three labels for outputs\n",
        "print('Number of labels:', model.config.num_labels)\n"
      ]
    },
    {
      "cell_type": "code",
      "execution_count": 97,
      "id": "10f00f35-131f-42c5-b822-3f29a4901c82",
      "metadata": {
        "id": "10f00f35-131f-42c5-b822-3f29a4901c82"
      },
      "outputs": [],
      "source": [
        "batch_size = 8\n",
        "learning_rate=4e-6\n",
        "\n",
        "num_epochs = 6\n",
        "args = TrainingArguments(\n",
        "    f\"{model_name}_finetuned_keyword_extract\",\n",
        "    evaluation_strategy = \"epoch\",\n",
        "    logging_strategy = 'epoch',\n",
        "    learning_rate=learning_rate,\n",
        "    per_device_train_batch_size=batch_size,\n",
        "    per_device_eval_batch_size=batch_size,\n",
        "    num_train_epochs= num_epochs,\n",
        "    lr_scheduler_type='linear',\n",
        "    weight_decay=0.01,\n",
        "    seed=0\n",
        ")"
      ]
    },
    {
      "cell_type": "markdown",
      "id": "64bf0ab6-d054-406f-b71f-1b5df71153ed",
      "metadata": {
        "id": "64bf0ab6-d054-406f-b71f-1b5df71153ed"
      },
      "source": [
        "## Define a custom loss using weighted crossentropy"
      ]
    },
    {
      "cell_type": "code",
      "execution_count": 98,
      "id": "d254be93-e873-4ada-8918-305be2b58cd1",
      "metadata": {
        "id": "d254be93-e873-4ada-8918-305be2b58cd1"
      },
      "outputs": [],
      "source": [
        "#counting how many beginning keywords, middle keywords, and non-keywords there are\n",
        "count_0s = 0\n",
        "count_1s = 0\n",
        "count_2s = 0\n",
        "\n",
        "for listt in tokenized_dataset[\"train\"][\"labels\"]:\n",
        "    count_dict = Counter(listt)\n",
        "    count_0s += count_dict[0]\n",
        "    count_1s += count_dict[1]\n",
        "    count_2s += count_dict[2]\n",
        "\n",
        "#getting weights for weighted cross_entropy\n",
        "max_ = max(count_0s,count_1s,count_2s)\n",
        "weights = [max_/count_0s, max_/count_1s, max_/count_2s]\n",
        "\n",
        "#defining loss function\n",
        "class CustomTrainer(Trainer):\n",
        "    def compute_loss(self, model, inputs, return_outputs=False):\n",
        "        labels = inputs.pop(\"labels\").to(model.device)\n",
        "        # forward pass\n",
        "        outputs = model(**inputs)\n",
        "        logits = outputs.get(\"logits\").to(model.device)\n",
        "        # compute custom loss (suppose one has 3 labels with different weights)\n",
        "        loss_fct = torch.nn.CrossEntropyLoss(weight= torch.tensor(weights).to(device))\n",
        "        loss = loss_fct(logits.view(-1, self.model.config.num_labels), labels.view(-1))\n",
        "        return (loss, outputs) if return_outputs else loss"
      ]
    },
    {
      "cell_type": "markdown",
      "id": "6b3e8355-e563-4d2c-9b23-8c2a9956e9a8",
      "metadata": {
        "id": "6b3e8355-e563-4d2c-9b23-8c2a9956e9a8"
      },
      "source": [
        "## Launch training"
      ]
    },
    {
      "cell_type": "code",
      "execution_count": 99,
      "id": "8c0599e0-b152-4dce-93a0-b0103c272a9e",
      "metadata": {
        "colab": {
          "base_uri": "https://localhost:8080/",
          "height": 1000
        },
        "id": "8c0599e0-b152-4dce-93a0-b0103c272a9e",
        "outputId": "7db0e347-2a87-476b-fe65-6e9bc31b3200"
      },
      "outputs": [
        {
          "name": "stderr",
          "output_type": "stream",
          "text": [
            "\u001b[34m\u001b[1mwandb\u001b[0m: Currently logged in as: \u001b[33mcaleb-b-saul\u001b[0m (\u001b[33mac215-ppp\u001b[0m). Use \u001b[1m`wandb login --relogin`\u001b[0m to force relogin\n"
          ]
        },
        {
          "data": {
            "text/html": [
              "Tracking run with wandb version 0.15.11"
            ],
            "text/plain": [
              "<IPython.core.display.HTML object>"
            ]
          },
          "metadata": {},
          "output_type": "display_data"
        },
        {
          "data": {
            "text/html": [
              "Run data is saved locally in <code>/content/wandb/run-20231004_061637-60jnu64l</code>"
            ],
            "text/plain": [
              "<IPython.core.display.HTML object>"
            ]
          },
          "metadata": {},
          "output_type": "display_data"
        },
        {
          "data": {
            "text/html": [
              "Syncing run <strong><a href='https://wandb.ai/ac215-ppp/ppp-keyword-extraction/runs/60jnu64l' target=\"_blank\">distilbert-base-uncased</a></strong> to <a href='https://wandb.ai/ac215-ppp/ppp-keyword-extraction' target=\"_blank\">Weights & Biases</a> (<a href='https://wandb.me/run' target=\"_blank\">docs</a>)<br/>"
            ],
            "text/plain": [
              "<IPython.core.display.HTML object>"
            ]
          },
          "metadata": {},
          "output_type": "display_data"
        },
        {
          "data": {
            "text/html": [
              " View project at <a href='https://wandb.ai/ac215-ppp/ppp-keyword-extraction' target=\"_blank\">https://wandb.ai/ac215-ppp/ppp-keyword-extraction</a>"
            ],
            "text/plain": [
              "<IPython.core.display.HTML object>"
            ]
          },
          "metadata": {},
          "output_type": "display_data"
        },
        {
          "data": {
            "text/html": [
              " View run at <a href='https://wandb.ai/ac215-ppp/ppp-keyword-extraction/runs/60jnu64l' target=\"_blank\">https://wandb.ai/ac215-ppp/ppp-keyword-extraction/runs/60jnu64l</a>"
            ],
            "text/plain": [
              "<IPython.core.display.HTML object>"
            ]
          },
          "metadata": {},
          "output_type": "display_data"
        },
        {
          "name": "stderr",
          "output_type": "stream",
          "text": [
            "/usr/local/lib/python3.10/dist-packages/transformers/optimization.py:391: FutureWarning: This implementation of AdamW is deprecated and will be removed in a future version. Use the PyTorch implementation torch.optim.AdamW instead, or set `no_deprecation_warning=True` to disable this warning\n",
            "  warnings.warn(\n"
          ]
        },
        {
          "data": {
            "text/html": [
              "\n",
              "    <div>\n",
              "      \n",
              "      <progress value='750' max='750' style='width:300px; height:20px; vertical-align: middle;'></progress>\n",
              "      [750/750 03:49, Epoch 6/6]\n",
              "    </div>\n",
              "    <table border=\"1\" class=\"dataframe\">\n",
              "  <thead>\n",
              " <tr style=\"text-align: left;\">\n",
              "      <th>Epoch</th>\n",
              "      <th>Training Loss</th>\n",
              "      <th>Validation Loss</th>\n",
              "      <th> </th>\n",
              "      <th>Overall Precision</th>\n",
              "      <th>Overall Recall</th>\n",
              "      <th>Overall F1</th>\n",
              "      <th>Overall Accuracy</th>\n",
              "    </tr>\n",
              "  </thead>\n",
              "  <tbody>\n",
              "    <tr>\n",
              "      <td>1</td>\n",
              "      <td>0.813200</td>\n",
              "      <td>0.563476</td>\n",
              "      <td>{'precision': 0.22080031180979603, 'recall': 0.5934008379888268, 'f1': 0.32184452229902477, 'number': 5728}</td>\n",
              "      <td>0.220800</td>\n",
              "      <td>0.593401</td>\n",
              "      <td>0.321845</td>\n",
              "      <td>0.778330</td>\n",
              "    </tr>\n",
              "    <tr>\n",
              "      <td>2</td>\n",
              "      <td>0.477600</td>\n",
              "      <td>0.434292</td>\n",
              "      <td>{'precision': 0.26813682495927826, 'recall': 0.7472067039106145, 'f1': 0.3946519133241124, 'number': 5728}</td>\n",
              "      <td>0.268137</td>\n",
              "      <td>0.747207</td>\n",
              "      <td>0.394652</td>\n",
              "      <td>0.776157</td>\n",
              "    </tr>\n",
              "    <tr>\n",
              "      <td>3</td>\n",
              "      <td>0.407200</td>\n",
              "      <td>0.404173</td>\n",
              "      <td>{'precision': 0.29357077386408276, 'recall': 0.7828212290502793, 'f1': 0.42700695171888386, 'number': 5728}</td>\n",
              "      <td>0.293571</td>\n",
              "      <td>0.782821</td>\n",
              "      <td>0.427007</td>\n",
              "      <td>0.792510</td>\n",
              "    </tr>\n",
              "    <tr>\n",
              "      <td>4</td>\n",
              "      <td>0.377900</td>\n",
              "      <td>0.390018</td>\n",
              "      <td>{'precision': 0.305846071332797, 'recall': 0.7964385474860335, 'f1': 0.44196861073435384, 'number': 5728}</td>\n",
              "      <td>0.305846</td>\n",
              "      <td>0.796439</td>\n",
              "      <td>0.441969</td>\n",
              "      <td>0.797812</td>\n",
              "    </tr>\n",
              "    <tr>\n",
              "      <td>5</td>\n",
              "      <td>0.362200</td>\n",
              "      <td>0.383535</td>\n",
              "      <td>{'precision': 0.3099871177706963, 'recall': 0.7981843575418994, 'f1': 0.44654978756653807, 'number': 5728}</td>\n",
              "      <td>0.309987</td>\n",
              "      <td>0.798184</td>\n",
              "      <td>0.446550</td>\n",
              "      <td>0.800780</td>\n",
              "    </tr>\n",
              "    <tr>\n",
              "      <td>6</td>\n",
              "      <td>0.352200</td>\n",
              "      <td>0.381921</td>\n",
              "      <td>{'precision': 0.30797636632200887, 'recall': 0.8008030726256983, 'f1': 0.44486470759383173, 'number': 5728}</td>\n",
              "      <td>0.307976</td>\n",
              "      <td>0.800803</td>\n",
              "      <td>0.444865</td>\n",
              "      <td>0.799389</td>\n",
              "    </tr>\n",
              "  </tbody>\n",
              "</table><p>"
            ],
            "text/plain": [
              "<IPython.core.display.HTML object>"
            ]
          },
          "metadata": {},
          "output_type": "display_data"
        },
        {
          "name": "stderr",
          "output_type": "stream",
          "text": [
            "Trainer is attempting to log a value of \"{'precision': 0.22080031180979603, 'recall': 0.5934008379888268, 'f1': 0.32184452229902477, 'number': 5728}\" of type <class 'dict'> for key \"eval/_\" as a scalar. This invocation of Tensorboard's writer.add_scalar() is incorrect so we dropped this attribute.\n",
            "Trainer is attempting to log a value of \"{'precision': 0.26813682495927826, 'recall': 0.7472067039106145, 'f1': 0.3946519133241124, 'number': 5728}\" of type <class 'dict'> for key \"eval/_\" as a scalar. This invocation of Tensorboard's writer.add_scalar() is incorrect so we dropped this attribute.\n",
            "Trainer is attempting to log a value of \"{'precision': 0.29357077386408276, 'recall': 0.7828212290502793, 'f1': 0.42700695171888386, 'number': 5728}\" of type <class 'dict'> for key \"eval/_\" as a scalar. This invocation of Tensorboard's writer.add_scalar() is incorrect so we dropped this attribute.\n",
            "Trainer is attempting to log a value of \"{'precision': 0.305846071332797, 'recall': 0.7964385474860335, 'f1': 0.44196861073435384, 'number': 5728}\" of type <class 'dict'> for key \"eval/_\" as a scalar. This invocation of Tensorboard's writer.add_scalar() is incorrect so we dropped this attribute.\n",
            "Trainer is attempting to log a value of \"{'precision': 0.3099871177706963, 'recall': 0.7981843575418994, 'f1': 0.44654978756653807, 'number': 5728}\" of type <class 'dict'> for key \"eval/_\" as a scalar. This invocation of Tensorboard's writer.add_scalar() is incorrect so we dropped this attribute.\n",
            "Trainer is attempting to log a value of \"{'precision': 0.30797636632200887, 'recall': 0.8008030726256983, 'f1': 0.44486470759383173, 'number': 5728}\" of type <class 'dict'> for key \"eval/_\" as a scalar. This invocation of Tensorboard's writer.add_scalar() is incorrect so we dropped this attribute.\n"
          ]
        },
        {
          "name": "stdout",
          "output_type": "stream",
          "text": [
            "Training execution time (mins) 3.8297812422116597\n"
          ]
        },
        {
          "data": {
            "text/html": [
              "Waiting for W&B process to finish... <strong style=\"color:green\">(success).</strong>"
            ],
            "text/plain": [
              "<IPython.core.display.HTML object>"
            ]
          },
          "metadata": {},
          "output_type": "display_data"
        },
        {
          "data": {
            "text/html": [
              "<style>\n",
              "    table.wandb td:nth-child(1) { padding: 0 10px; text-align: left ; width: auto;} td:nth-child(2) {text-align: left ; width: 100%}\n",
              "    .wandb-row { display: flex; flex-direction: row; flex-wrap: wrap; justify-content: flex-start; width: 100% }\n",
              "    .wandb-col { display: flex; flex-direction: column; flex-basis: 100%; flex: 1; padding: 10px; }\n",
              "    </style>\n",
              "<div class=\"wandb-row\"><div class=\"wandb-col\"><h3>Run history:</h3><br/><table class=\"wandb\"><tr><td>eval/loss</td><td>█▃▂▁▁▁</td></tr><tr><td>eval/overall_accuracy</td><td>▂▁▆▇██</td></tr><tr><td>eval/overall_f1</td><td>▁▅▇███</td></tr><tr><td>eval/overall_precision</td><td>▁▅▇███</td></tr><tr><td>eval/overall_recall</td><td>▁▆▇███</td></tr><tr><td>eval/runtime</td><td>▂█▁▁▆▁</td></tr><tr><td>eval/samples_per_second</td><td>▇▁██▃█</td></tr><tr><td>eval/steps_per_second</td><td>▇▁██▃█</td></tr><tr><td>train/epoch</td><td>▁▁▂▂▄▄▅▅▇▇███</td></tr><tr><td>train/global_step</td><td>▁▁▂▂▄▄▅▅▇▇███</td></tr><tr><td>train/learning_rate</td><td>█▇▅▄▂▁</td></tr><tr><td>train/loss</td><td>█▃▂▁▁▁</td></tr><tr><td>train/total_flos</td><td>▁</td></tr><tr><td>train/train_loss</td><td>▁</td></tr><tr><td>train/train_runtime</td><td>▁</td></tr><tr><td>train/train_samples_per_second</td><td>▁</td></tr><tr><td>train/train_steps_per_second</td><td>▁</td></tr></table><br/></div><div class=\"wandb-col\"><h3>Run summary:</h3><br/><table class=\"wandb\"><tr><td>eval/loss</td><td>0.38192</td></tr><tr><td>eval/overall_accuracy</td><td>0.79939</td></tr><tr><td>eval/overall_f1</td><td>0.44486</td></tr><tr><td>eval/overall_precision</td><td>0.30798</td></tr><tr><td>eval/overall_recall</td><td>0.8008</td></tr><tr><td>eval/runtime</td><td>7.2724</td></tr><tr><td>eval/samples_per_second</td><td>68.753</td></tr><tr><td>eval/steps_per_second</td><td>8.663</td></tr><tr><td>train/epoch</td><td>6.0</td></tr><tr><td>train/global_step</td><td>750</td></tr><tr><td>train/learning_rate</td><td>0.0</td></tr><tr><td>train/loss</td><td>0.3522</td></tr><tr><td>train/total_flos</td><td>470933323779600.0</td></tr><tr><td>train/train_loss</td><td>0.46504</td></tr><tr><td>train/train_runtime</td><td>229.752</td></tr><tr><td>train/train_samples_per_second</td><td>26.115</td></tr><tr><td>train/train_steps_per_second</td><td>3.264</td></tr></table><br/></div></div>"
            ],
            "text/plain": [
              "<IPython.core.display.HTML object>"
            ]
          },
          "metadata": {},
          "output_type": "display_data"
        },
        {
          "data": {
            "text/html": [
              " View run <strong style=\"color:#cdcd00\">distilbert-base-uncased</strong> at: <a href='https://wandb.ai/ac215-ppp/ppp-keyword-extraction/runs/60jnu64l' target=\"_blank\">https://wandb.ai/ac215-ppp/ppp-keyword-extraction/runs/60jnu64l</a><br/>Synced 5 W&B file(s), 0 media file(s), 0 artifact file(s) and 0 other file(s)"
            ],
            "text/plain": [
              "<IPython.core.display.HTML object>"
            ]
          },
          "metadata": {},
          "output_type": "display_data"
        },
        {
          "data": {
            "text/html": [
              "Find logs at: <code>./wandb/run-20231004_061637-60jnu64l/logs</code>"
            ],
            "text/plain": [
              "<IPython.core.display.HTML object>"
            ]
          },
          "metadata": {},
          "output_type": "display_data"
        }
      ],
      "source": [
        "# Initialize a W&B run\n",
        "wandb.init(\n",
        "    project = 'ppp-keyword-extraction',\n",
        "    config = {\n",
        "      \"learning_rate\": learning_rate,\n",
        "      \"epochs\": epochs,\n",
        "      \"batch_size\": batch_size,\n",
        "      \"model_name\": model_name\n",
        "    },\n",
        "    name = model_name\n",
        ")\n",
        "\n",
        "\n",
        "# Train model\n",
        "start_time = time.time()\n",
        "\n",
        "\n",
        "trainer = CustomTrainer(\n",
        "    model=model,\n",
        "    args=args,\n",
        "    train_dataset=tokenized_dataset[\"train\"],\n",
        "    eval_dataset=tokenized_dataset[\"validation\"],\n",
        "    data_collator=data_collator,\n",
        "    compute_metrics=compute_metrics,\n",
        "    tokenizer=tokenizer)\n",
        "trainer.train()\n",
        "\n",
        "execution_time = (time.time() - start_time)/60.0\n",
        "print(\"Training execution time (mins)\",execution_time)\n",
        "\n",
        "# Update W&B\n",
        "wandb.config.update({\"execution_time\": execution_time})\n",
        "# Close the W&B run\n",
        "wandb.run.finish()"
      ]
    },
    {
      "cell_type": "code",
      "execution_count": 100,
      "id": "0fe4ca7f-35b4-4e1f-90bf-18f74f3e9743",
      "metadata": {
        "colab": {
          "base_uri": "https://localhost:8080/",
          "height": 449
        },
        "id": "0fe4ca7f-35b4-4e1f-90bf-18f74f3e9743",
        "outputId": "304324f2-4c87-417a-a21b-860b08932804"
      },
      "outputs": [
        {
          "data": {
            "image/png": "[encoded data removed]",
            "text/plain": [
              "<Figure size 640x480 with 1 Axes>"
            ]
          },
          "metadata": {},
          "output_type": "display_data"
        }
      ],
      "source": [
        "loss = []\n",
        "val_loss = []\n",
        "for d in trainer.state.log_history:\n",
        "    if \"loss\" in d:\n",
        "        loss.append(d[\"loss\"])\n",
        "    if \"eval_loss\" in d:\n",
        "        val_loss.append(d[\"eval_loss\"])\n",
        "\n",
        "plt.plot(range(num_epochs), loss, 'o--')\n",
        "plt.plot(range(num_epochs), val_loss, 'o--')\n",
        "plt.legend([\"Training Loss\", \"Validation Loss\"])\n",
        "plt.xlabel(\"Epoch\")\n",
        "plt.ylabel(\"Loss\")\n",
        "plt.show()"
      ]
    },
    {
      "cell_type": "code",
      "execution_count": 80,
      "id": "9c423661-fbce-43e8-88fe-f46052103bf4",
      "metadata": {
        "colab": {
          "base_uri": "https://localhost:8080/",
          "height": 449
        },
        "id": "9c423661-fbce-43e8-88fe-f46052103bf4",
        "outputId": "32e75f68-b6be-4231-d065-1be62eed999d"
      },
      "outputs": [
        {
          "data": {
            "image/png": "[encoded data removed]",
            "text/plain": [
              "<Figure size 640x480 with 1 Axes>"
            ]
          },
          "metadata": {},
          "output_type": "display_data"
        }
      ],
      "source": [
        "eval_overall_precision = []\n",
        "eval_overall_f1 = []\n",
        "eval_overall_recall = []\n",
        "eval_overall_accuracy = []\n",
        "\n",
        "\n",
        "for d in trainer.state.log_history:\n",
        "    if \"eval_overall_precision\" in d:\n",
        "        eval_overall_precision.append(d[\"eval_overall_precision\"])\n",
        "        eval_overall_f1.append(d[\"eval_overall_f1\"])\n",
        "        eval_overall_recall.append(d[\"eval_overall_recall\"])\n",
        "        eval_overall_accuracy.append(d[\"eval_overall_accuracy\"])\n",
        "\n",
        "plt.plot(range(num_epochs), eval_overall_precision,'o--', label = 'precision')\n",
        "plt.plot(range(num_epochs), eval_overall_f1, 'o--',label = 'f1')\n",
        "plt.plot(range(num_epochs), eval_overall_recall, 'o--',label = 'recall')\n",
        "plt.plot(range(num_epochs), eval_overall_accuracy, 'o--',label = 'accuracy')\n",
        "plt.legend()\n",
        "plt.xlabel(\"Epoch\")\n",
        "plt.show()"
      ]
    },
    {
      "cell_type": "markdown",
      "id": "-zKwke7TMcgo",
      "metadata": {
        "id": "-zKwke7TMcgo"
      },
      "source": [
        "## Test Set Performance"
      ]
    },
    {
      "cell_type": "code",
      "execution_count": 81,
      "id": "fb4783ef-eed7-4f92-9925-3f49b3288592",
      "metadata": {
        "colab": {
          "base_uri": "https://localhost:8080/",
          "height": 280
        },
        "id": "fb4783ef-eed7-4f92-9925-3f49b3288592",
        "outputId": "2a8243e4-7b37-4153-9405-b744bf495b69"
      },
      "outputs": [
        {
          "data": {
            "text/html": [
              "\n",
              "    <div>\n",
              "      \n",
              "      <progress value='63' max='63' style='width:300px; height:20px; vertical-align: middle;'></progress>\n",
              "      [63/63 00:04]\n",
              "    </div>\n",
              "    "
            ],
            "text/plain": [
              "<IPython.core.display.HTML object>"
            ]
          },
          "metadata": {},
          "output_type": "display_data"
        },
        {
          "name": "stderr",
          "output_type": "stream",
          "text": [
            "Trainer is attempting to log a value of \"{'precision': 0.32885635618830167, 'recall': 0.8290164211951921, 'f1': 0.47091066448696994, 'number': 5907}\" of type <class 'dict'> for key \"eval/_\" as a scalar. This invocation of Tensorboard's writer.add_scalar() is incorrect so we dropped this attribute.\n"
          ]
        },
        {
          "data": {
            "text/plain": [
              "{'eval_loss': 0.35649117827415466,\n",
              " 'eval__': {'precision': 0.32885635618830167,\n",
              "  'recall': 0.8290164211951921,\n",
              "  'f1': 0.47091066448696994,\n",
              "  'number': 5907},\n",
              " 'eval_overall_precision': 0.32885635618830167,\n",
              " 'eval_overall_recall': 0.8290164211951921,\n",
              " 'eval_overall_f1': 0.47091066448696994,\n",
              " 'eval_overall_accuracy': 0.8097503561915381,\n",
              " 'eval_runtime': 7.4798,\n",
              " 'eval_samples_per_second': 66.847,\n",
              " 'eval_steps_per_second': 8.423,\n",
              " 'epoch': 6.0}"
            ]
          },
          "execution_count": 81,
          "metadata": {},
          "output_type": "execute_result"
        }
      ],
      "source": [
        "test_output = trainer.evaluate(tokenized_dataset[\"test\"])\n",
        "test_output"
      ]
    },
    {
      "cell_type": "markdown",
      "id": "LF2EVcTqMgYt",
      "metadata": {
        "id": "LF2EVcTqMgYt"
      },
      "source": [
        "## Function to extract keyphrases on a sample text"
      ]
    },
    {
      "cell_type": "code",
      "execution_count": 82,
      "id": "9b9ff41a-2fde-422b-82cd-58f84e37a1ba",
      "metadata": {
        "id": "9b9ff41a-2fde-422b-82cd-58f84e37a1ba"
      },
      "outputs": [],
      "source": [
        "def extract_keyphrases(text, model, tokenizer, text_in_list = False):\n",
        "\n",
        "    if text_in_list:\n",
        "        text = ' '.join(word for word in text)\n",
        "\n",
        "    inputs = tokenizer(text,return_tensors=\"pt\")[\"input_ids\"].to(device)\n",
        "    with torch.no_grad():\n",
        "        logits = model(inputs).logits\n",
        "\n",
        "    predictions = torch.argmax(logits, dim=2)\n",
        "    predicted_token_class = [model.config.id2label[t.item()] for t in predictions[0]]\n",
        "\n",
        "    keyphrases = []\n",
        "    keyphrase = []\n",
        "    for label, token in zip(predicted_token_class, inputs[0]):\n",
        "        if label == 'B':\n",
        "            keyphrase = []\n",
        "            keyphrase.append(tokenizer.decode(token))\n",
        "        elif label == 'I' and len(keyphrase) > 0:\n",
        "            keyphrase.append(tokenizer.decode(token))\n",
        "\n",
        "        elif label == 'O' and len(keyphrase) > 0:\n",
        "            keyphrases.append(keyphrase)\n",
        "            keyphrase = []\n",
        "\n",
        "    return keyphrases"
      ]
    },
    {
      "cell_type": "markdown",
      "id": "YepQo_hrMqWk",
      "metadata": {
        "id": "YepQo_hrMqWk"
      },
      "source": [
        "## Sample Text"
      ]
    },
    {
      "cell_type": "code",
      "execution_count": 83,
      "id": "GC19FgE4Hv27",
      "metadata": {
        "colab": {
          "base_uri": "https://localhost:8080/",
          "height": 87
        },
        "id": "GC19FgE4Hv27",
        "outputId": "7a6353a1-eb46-414e-cd81-634bfb8eb298"
      },
      "outputs": [
        {
          "data": {
            "application/vnd.google.colaboratory.intrinsic+json": {
              "type": "string"
            },
            "text/plain": [
              "'A new graphical user interface for fast construction of computation phantoms and MCNP calculations : application to calibration of in vivo measurement systems Reports on a new utility for development of computational phantoms for Monte Carlo calculations and data analysis for in vivo measurements of radionuclides deposited in tissues . The individual properties of each worker can be acquired for a rather precise geometric representation of his -LRB- her -RRB- anatomy , which is particularly important for low energy gamma ray emitting sources such as thorium , uranium , plutonium and other actinides . The software enables automatic creation of an MCNP input data file based on scanning data . The utility includes segmentation of images obtained with either computed tomography or magnetic resonance imaging by distinguishing tissues according to their signal -LRB- brightness -RRB- and specification of the source and detector . In addition , a coupling of individual voxels within the tissue is used to reduce the memory demand and to increase the calculational speed . The utility was tested for low energy emitters in plastic and biological tissues as well as for computed tomography and magnetic resonance imaging scanning information'"
            ]
          },
          "execution_count": 83,
          "metadata": {},
          "output_type": "execute_result"
        }
      ],
      "source": [
        "' '.join(word for word in dataset[\"test\"][0][\"document\"])"
      ]
    },
    {
      "cell_type": "markdown",
      "id": "uAJ35ZocMn0w",
      "metadata": {
        "id": "uAJ35ZocMn0w"
      },
      "source": [
        "## Model Generated Key Phrases"
      ]
    },
    {
      "cell_type": "code",
      "execution_count": 84,
      "id": "ffb2f35b-432b-4af9-b1a2-3dea9336f410",
      "metadata": {
        "colab": {
          "base_uri": "https://localhost:8080/"
        },
        "id": "ffb2f35b-432b-4af9-b1a2-3dea9336f410",
        "outputId": "47bdb67b-0a69-4c11-bc21-3219aaeb37bd"
      },
      "outputs": [
        {
          "data": {
            "text/plain": [
              "[['graphical', 'user', 'interface'],\n",
              " ['fast', 'construction'],\n",
              " ['computation', 'phantom', '##s'],\n",
              " ['##np', 'calculations'],\n",
              " ['##ration'],\n",
              " ['vivo', 'measurement', 'systems'],\n",
              " ['computational', 'phantom', '##s'],\n",
              " ['carlo', 'calculations'],\n",
              " ['data', 'analysis'],\n",
              " ['vivo', 'measurements'],\n",
              " ['##ides', 'deposited'],\n",
              " ['tissues'],\n",
              " ['worker'],\n",
              " ['geometric', 'representation'],\n",
              " ['low', 'energy', 'gamma', 'ray', 'emi', '##tting', 'sources'],\n",
              " ['##ium'],\n",
              " ['uranium'],\n",
              " ['##nium'],\n",
              " ['##des'],\n",
              " ['##np', 'input', 'data', 'file'],\n",
              " ['scanning', 'data'],\n",
              " ['##ation'],\n",
              " ['images'],\n",
              " ['computed', 'tom', '##ography'],\n",
              " ['magnetic', 'resonance', 'imaging'],\n",
              " ['tissues'],\n",
              " ['detector'],\n",
              " ['vox', '##els'],\n",
              " ['tissue'],\n",
              " ['memory', 'demand'],\n",
              " ['calculation'],\n",
              " ['low', 'energy', 'emi', '##tters'],\n",
              " ['plastic'],\n",
              " ['biological', 'tissues'],\n",
              " ['computed', 'tom', '##ography'],\n",
              " ['magnetic', 'resonance', 'imaging', 'scanning', 'information']]"
            ]
          },
          "execution_count": 84,
          "metadata": {},
          "output_type": "execute_result"
        }
      ],
      "source": [
        "extract_keyphrases(dataset[\"test\"][0][\"document\"], model, tokenizer, True)"
      ]
    },
    {
      "cell_type": "markdown",
      "id": "CF-yQE3hMzTZ",
      "metadata": {
        "id": "CF-yQE3hMzTZ"
      },
      "source": [
        "## Actual key words from the sample text"
      ]
    },
    {
      "cell_type": "code",
      "execution_count": 86,
      "id": "Iwtxi4BGIGyo",
      "metadata": {
        "colab": {
          "base_uri": "https://localhost:8080/"
        },
        "id": "Iwtxi4BGIGyo",
        "outputId": "332fa5ac-438a-4370-f4d3-ce353cafdafe"
      },
      "outputs": [
        {
          "data": {
            "text/plain": [
              "[['graphical', 'user', 'interface'],\n",
              " ['computation', 'phantoms'],\n",
              " ['calibration'],\n",
              " ['in', 'vivo', 'measurement', 'systems'],\n",
              " ['computational', 'phantoms'],\n",
              " ['Monte', 'Carlo', 'calculations'],\n",
              " ['in', 'vivo', 'measurements'],\n",
              " ['radionuclides'],\n",
              " ['tissues'],\n",
              " ['worker'],\n",
              " ['precise', 'geometric', 'representation'],\n",
              " ['anatomy'],\n",
              " ['low', 'energy', 'gamma', 'ray', 'emitting', 'sources'],\n",
              " ['actinides'],\n",
              " ['software'],\n",
              " ['automatic', 'creation'],\n",
              " ['MCNP', 'input', 'data', 'file'],\n",
              " ['scanning', 'data'],\n",
              " ['computed', 'tomography'],\n",
              " ['tissues'],\n",
              " ['signal'],\n",
              " ['brightness'],\n",
              " ['detector'],\n",
              " ['individual', 'voxels'],\n",
              " ['memory', 'demand'],\n",
              " ['calculational', 'speed'],\n",
              " ['plastic'],\n",
              " ['tissues'],\n",
              " ['computed', 'tomography']]"
            ]
          },
          "execution_count": 86,
          "metadata": {},
          "output_type": "execute_result"
        }
      ],
      "source": [
        "keyphrases = []\n",
        "keyphrase = []\n",
        "for label, word in zip(dataset[\"test\"][0][\"doc_bio_tags\"],dataset[\"test\"][0][\"document\"]):\n",
        "    if label == 'B':\n",
        "        keyphrase = []\n",
        "        keyphrase.append(word)\n",
        "    elif label == 'I' and len(keyphrase) > 0:\n",
        "        keyphrase.append(word)\n",
        "\n",
        "    elif label == 'O' and len(keyphrase) > 0:\n",
        "        keyphrases.append(keyphrase)\n",
        "        keyphrase = []\n",
        "keyphrases"
      ]
    },
    {
      "cell_type": "markdown",
      "id": "a10c5ce3-a06c-48d5-8f6e-68b2bd138fd0",
      "metadata": {
        "id": "a10c5ce3-a06c-48d5-8f6e-68b2bd138fd0"
      },
      "source": [
        "## Tomorrow\n",
        "\n",
        "- make code modular\n",
        "- get it running with weights and biases for 3 different base model instead of one at a time\n",
        "- convert notebook into python script with one container for preprocessing and one for training\n",
        "- make it multi-gpu compatible"
      ]
    },
    {
      "cell_type": "code",
      "execution_count": null,
      "id": "2bd94cfe-baa7-4831-85ad-2c658a91054c",
      "metadata": {
        "id": "2bd94cfe-baa7-4831-85ad-2c658a91054c"
      },
      "outputs": [],
      "source": []
    }
  ],
  "metadata": {
    "accelerator": "GPU",
    "colab": {
      "gpuType": "T4",
      "provenance": []
    },
    "kernelspec": {
      "display_name": "Python 3",
      "name": "python3"
    },
    "language_info": {
      "codemirror_mode": {
        "name": "ipython",
        "version": 3
      },
      "file_extension": ".py",
      "mimetype": "text/x-python",
      "name": "python",
      "nbconvert_exporter": "python",
      "pygments_lexer": "ipython3",
      "version": "3.11.5"
    },
    "widgets": {
      "application/vnd.jupyter.widget-state+json": {
        "04c2a8a14a9b427088abe832475af4c2": {
          "model_module": "@jupyter-widgets/controls",
          "model_module_version": "1.5.0",
          "model_name": "HBoxModel",
          "state": {
            "_dom_classes": [],
            "_model_module": "@jupyter-widgets/controls",
            "_model_module_version": "1.5.0",
            "_model_name": "HBoxModel",
            "_view_count": null,
            "_view_module": "@jupyter-widgets/controls",
            "_view_module_version": "1.5.0",
            "_view_name": "HBoxView",
            "box_style": "",
            "children": [
              "IPY_MODEL_8f073925b2de42618109b3e9801677f0",
              "IPY_MODEL_dc85e3d397e5439a96c316b26050ee17",
              "IPY_MODEL_9098728928ae41b59a7d417973b6cf18"
            ],
            "layout": "IPY_MODEL_26ecc09414894db6a3edfbbf829b4ead"
          }
        },
        "082edcd95815492c84a769ebc1b126b4": {
          "model_module": "@jupyter-widgets/controls",
          "model_module_version": "1.5.0",
          "model_name": "ProgressStyleModel",
          "state": {
            "_model_module": "@jupyter-widgets/controls",
            "_model_module_version": "1.5.0",
            "_model_name": "ProgressStyleModel",
            "_view_count": null,
            "_view_module": "@jupyter-widgets/base",
            "_view_module_version": "1.2.0",
            "_view_name": "StyleView",
            "bar_color": null,
            "description_width": ""
          }
        },
        "0e940f115501424f9d68f7596629c61e": {
          "model_module": "@jupyter-widgets/controls",
          "model_module_version": "1.5.0",
          "model_name": "DescriptionStyleModel",
          "state": {
            "_model_module": "@jupyter-widgets/controls",
            "_model_module_version": "1.5.0",
            "_model_name": "DescriptionStyleModel",
            "_view_count": null,
            "_view_module": "@jupyter-widgets/base",
            "_view_module_version": "1.2.0",
            "_view_name": "StyleView",
            "description_width": ""
          }
        },
        "1001e419096b4824be34f9be66a69a17": {
          "model_module": "@jupyter-widgets/controls",
          "model_module_version": "1.5.0",
          "model_name": "DescriptionStyleModel",
          "state": {
            "_model_module": "@jupyter-widgets/controls",
            "_model_module_version": "1.5.0",
            "_model_name": "DescriptionStyleModel",
            "_view_count": null,
            "_view_module": "@jupyter-widgets/base",
            "_view_module_version": "1.2.0",
            "_view_name": "StyleView",
            "description_width": ""
          }
        },
        "12c15eb24b6d445389c7143a294946d0": {
          "model_module": "@jupyter-widgets/base",
          "model_module_version": "1.2.0",
          "model_name": "LayoutModel",
          "state": {
            "_model_module": "@jupyter-widgets/base",
            "_model_module_version": "1.2.0",
            "_model_name": "LayoutModel",
            "_view_count": null,
            "_view_module": "@jupyter-widgets/base",
            "_view_module_version": "1.2.0",
            "_view_name": "LayoutView",
            "align_content": null,
            "align_items": null,
            "align_self": null,
            "border": null,
            "bottom": null,
            "display": null,
            "flex": null,
            "flex_flow": null,
            "grid_area": null,
            "grid_auto_columns": null,
            "grid_auto_flow": null,
            "grid_auto_rows": null,
            "grid_column": null,
            "grid_gap": null,
            "grid_row": null,
            "grid_template_areas": null,
            "grid_template_columns": null,
            "grid_template_rows": null,
            "height": null,
            "justify_content": null,
            "justify_items": null,
            "left": null,
            "margin": null,
            "max_height": null,
            "max_width": null,
            "min_height": null,
            "min_width": null,
            "object_fit": null,
            "object_position": null,
            "order": null,
            "overflow": null,
            "overflow_x": null,
            "overflow_y": null,
            "padding": null,
            "right": null,
            "top": null,
            "visibility": null,
            "width": null
          }
        },
        "26ecc09414894db6a3edfbbf829b4ead": {
          "model_module": "@jupyter-widgets/base",
          "model_module_version": "1.2.0",
          "model_name": "LayoutModel",
          "state": {
            "_model_module": "@jupyter-widgets/base",
            "_model_module_version": "1.2.0",
            "_model_name": "LayoutModel",
            "_view_count": null,
            "_view_module": "@jupyter-widgets/base",
            "_view_module_version": "1.2.0",
            "_view_name": "LayoutView",
            "align_content": null,
            "align_items": null,
            "align_self": null,
            "border": null,
            "bottom": null,
            "display": null,
            "flex": null,
            "flex_flow": null,
            "grid_area": null,
            "grid_auto_columns": null,
            "grid_auto_flow": null,
            "grid_auto_rows": null,
            "grid_column": null,
            "grid_gap": null,
            "grid_row": null,
            "grid_template_areas": null,
            "grid_template_columns": null,
            "grid_template_rows": null,
            "height": null,
            "justify_content": null,
            "justify_items": null,
            "left": null,
            "margin": null,
            "max_height": null,
            "max_width": null,
            "min_height": null,
            "min_width": null,
            "object_fit": null,
            "object_position": null,
            "order": null,
            "overflow": null,
            "overflow_x": null,
            "overflow_y": null,
            "padding": null,
            "right": null,
            "top": null,
            "visibility": null,
            "width": null
          }
        },
        "2821b58e5aab4ec19188a4d6c6b420de": {
          "model_module": "@jupyter-widgets/base",
          "model_module_version": "1.2.0",
          "model_name": "LayoutModel",
          "state": {
            "_model_module": "@jupyter-widgets/base",
            "_model_module_version": "1.2.0",
            "_model_name": "LayoutModel",
            "_view_count": null,
            "_view_module": "@jupyter-widgets/base",
            "_view_module_version": "1.2.0",
            "_view_name": "LayoutView",
            "align_content": null,
            "align_items": null,
            "align_self": null,
            "border": null,
            "bottom": null,
            "display": null,
            "flex": null,
            "flex_flow": null,
            "grid_area": null,
            "grid_auto_columns": null,
            "grid_auto_flow": null,
            "grid_auto_rows": null,
            "grid_column": null,
            "grid_gap": null,
            "grid_row": null,
            "grid_template_areas": null,
            "grid_template_columns": null,
            "grid_template_rows": null,
            "height": null,
            "justify_content": null,
            "justify_items": null,
            "left": null,
            "margin": null,
            "max_height": null,
            "max_width": null,
            "min_height": null,
            "min_width": null,
            "object_fit": null,
            "object_position": null,
            "order": null,
            "overflow": null,
            "overflow_x": null,
            "overflow_y": null,
            "padding": null,
            "right": null,
            "top": null,
            "visibility": null,
            "width": null
          }
        },
        "2b2c28ff5070482c8548d5c5b1c8d0f9": {
          "model_module": "@jupyter-widgets/controls",
          "model_module_version": "1.5.0",
          "model_name": "HTMLModel",
          "state": {
            "_dom_classes": [],
            "_model_module": "@jupyter-widgets/controls",
            "_model_module_version": "1.5.0",
            "_model_name": "HTMLModel",
            "_view_count": null,
            "_view_module": "@jupyter-widgets/controls",
            "_view_module_version": "1.5.0",
            "_view_name": "HTMLView",
            "description": "",
            "description_tooltip": null,
            "layout": "IPY_MODEL_b30d7ce828b0454babb0da184764a2bf",
            "placeholder": "​",
            "style": "IPY_MODEL_9c0e1c3b5d05407ebda6ad071def6a74",
            "value": "Map: 100%"
          }
        },
        "2b4770356acf4b6eb3de9488252e86e6": {
          "model_module": "@jupyter-widgets/controls",
          "model_module_version": "1.5.0",
          "model_name": "FloatProgressModel",
          "state": {
            "_dom_classes": [],
            "_model_module": "@jupyter-widgets/controls",
            "_model_module_version": "1.5.0",
            "_model_name": "FloatProgressModel",
            "_view_count": null,
            "_view_module": "@jupyter-widgets/controls",
            "_view_module_version": "1.5.0",
            "_view_name": "ProgressView",
            "bar_style": "success",
            "description": "",
            "description_tooltip": null,
            "layout": "IPY_MODEL_5bc87edf806e4e278ad4d00053cec996",
            "max": 231508,
            "min": 0,
            "orientation": "horizontal",
            "style": "IPY_MODEL_082edcd95815492c84a769ebc1b126b4",
            "value": 231508
          }
        },
        "2c9e7107896e4b53aaaf7176ae3bee41": {
          "model_module": "@jupyter-widgets/base",
          "model_module_version": "1.2.0",
          "model_name": "LayoutModel",
          "state": {
            "_model_module": "@jupyter-widgets/base",
            "_model_module_version": "1.2.0",
            "_model_name": "LayoutModel",
            "_view_count": null,
            "_view_module": "@jupyter-widgets/base",
            "_view_module_version": "1.2.0",
            "_view_name": "LayoutView",
            "align_content": null,
            "align_items": null,
            "align_self": null,
            "border": null,
            "bottom": null,
            "display": null,
            "flex": null,
            "flex_flow": null,
            "grid_area": null,
            "grid_auto_columns": null,
            "grid_auto_flow": null,
            "grid_auto_rows": null,
            "grid_column": null,
            "grid_gap": null,
            "grid_row": null,
            "grid_template_areas": null,
            "grid_template_columns": null,
            "grid_template_rows": null,
            "height": null,
            "justify_content": null,
            "justify_items": null,
            "left": null,
            "margin": null,
            "max_height": null,
            "max_width": null,
            "min_height": null,
            "min_width": null,
            "object_fit": null,
            "object_position": null,
            "order": null,
            "overflow": null,
            "overflow_x": null,
            "overflow_y": null,
            "padding": null,
            "right": null,
            "top": null,
            "visibility": null,
            "width": null
          }
        },
        "34c7d26c6f6147a482dd8f6b713bf74c": {
          "model_module": "@jupyter-widgets/base",
          "model_module_version": "1.2.0",
          "model_name": "LayoutModel",
          "state": {
            "_model_module": "@jupyter-widgets/base",
            "_model_module_version": "1.2.0",
            "_model_name": "LayoutModel",
            "_view_count": null,
            "_view_module": "@jupyter-widgets/base",
            "_view_module_version": "1.2.0",
            "_view_name": "LayoutView",
            "align_content": null,
            "align_items": null,
            "align_self": null,
            "border": null,
            "bottom": null,
            "display": null,
            "flex": null,
            "flex_flow": null,
            "grid_area": null,
            "grid_auto_columns": null,
            "grid_auto_flow": null,
            "grid_auto_rows": null,
            "grid_column": null,
            "grid_gap": null,
            "grid_row": null,
            "grid_template_areas": null,
            "grid_template_columns": null,
            "grid_template_rows": null,
            "height": null,
            "justify_content": null,
            "justify_items": null,
            "left": null,
            "margin": null,
            "max_height": null,
            "max_width": null,
            "min_height": null,
            "min_width": null,
            "object_fit": null,
            "object_position": null,
            "order": null,
            "overflow": null,
            "overflow_x": null,
            "overflow_y": null,
            "padding": null,
            "right": null,
            "top": null,
            "visibility": null,
            "width": null
          }
        },
        "38436008275c409da8fe6e4c064f360a": {
          "model_module": "@jupyter-widgets/controls",
          "model_module_version": "1.5.0",
          "model_name": "DescriptionStyleModel",
          "state": {
            "_model_module": "@jupyter-widgets/controls",
            "_model_module_version": "1.5.0",
            "_model_name": "DescriptionStyleModel",
            "_view_count": null,
            "_view_module": "@jupyter-widgets/base",
            "_view_module_version": "1.2.0",
            "_view_name": "StyleView",
            "description_width": ""
          }
        },
        "387daf9403c44b47a369b9a2ccac07c6": {
          "model_module": "@jupyter-widgets/controls",
          "model_module_version": "1.5.0",
          "model_name": "ProgressStyleModel",
          "state": {
            "_model_module": "@jupyter-widgets/controls",
            "_model_module_version": "1.5.0",
            "_model_name": "ProgressStyleModel",
            "_view_count": null,
            "_view_module": "@jupyter-widgets/base",
            "_view_module_version": "1.2.0",
            "_view_name": "StyleView",
            "bar_color": null,
            "description_width": ""
          }
        },
        "38b91ea07c5748bf8497cf8896e8b387": {
          "model_module": "@jupyter-widgets/controls",
          "model_module_version": "1.5.0",
          "model_name": "HBoxModel",
          "state": {
            "_dom_classes": [],
            "_model_module": "@jupyter-widgets/controls",
            "_model_module_version": "1.5.0",
            "_model_name": "HBoxModel",
            "_view_count": null,
            "_view_module": "@jupyter-widgets/controls",
            "_view_module_version": "1.5.0",
            "_view_name": "HBoxView",
            "box_style": "",
            "children": [
              "IPY_MODEL_bb3d5b0b10794d96995857cd9cf77e06",
              "IPY_MODEL_2b4770356acf4b6eb3de9488252e86e6",
              "IPY_MODEL_5a6431da151743028d7143378ea036a1"
            ],
            "layout": "IPY_MODEL_dd908f1c87ed40c1868206d734a02e63"
          }
        },
        "3c78c249217c4928beaf64b279d0068f": {
          "model_module": "@jupyter-widgets/base",
          "model_module_version": "1.2.0",
          "model_name": "LayoutModel",
          "state": {
            "_model_module": "@jupyter-widgets/base",
            "_model_module_version": "1.2.0",
            "_model_name": "LayoutModel",
            "_view_count": null,
            "_view_module": "@jupyter-widgets/base",
            "_view_module_version": "1.2.0",
            "_view_name": "LayoutView",
            "align_content": null,
            "align_items": null,
            "align_self": null,
            "border": null,
            "bottom": null,
            "display": null,
            "flex": null,
            "flex_flow": null,
            "grid_area": null,
            "grid_auto_columns": null,
            "grid_auto_flow": null,
            "grid_auto_rows": null,
            "grid_column": null,
            "grid_gap": null,
            "grid_row": null,
            "grid_template_areas": null,
            "grid_template_columns": null,
            "grid_template_rows": null,
            "height": null,
            "justify_content": null,
            "justify_items": null,
            "left": null,
            "margin": null,
            "max_height": null,
            "max_width": null,
            "min_height": null,
            "min_width": null,
            "object_fit": null,
            "object_position": null,
            "order": null,
            "overflow": null,
            "overflow_x": null,
            "overflow_y": null,
            "padding": null,
            "right": null,
            "top": null,
            "visibility": null,
            "width": null
          }
        },
        "45b39c51e9e841fdac8bd0f5e79205fe": {
          "model_module": "@jupyter-widgets/controls",
          "model_module_version": "1.5.0",
          "model_name": "HTMLModel",
          "state": {
            "_dom_classes": [],
            "_model_module": "@jupyter-widgets/controls",
            "_model_module_version": "1.5.0",
            "_model_name": "HTMLModel",
            "_view_count": null,
            "_view_module": "@jupyter-widgets/controls",
            "_view_module_version": "1.5.0",
            "_view_name": "HTMLView",
            "description": "",
            "description_tooltip": null,
            "layout": "IPY_MODEL_47cc67b7824a4b08bd0191a80d272c2b",
            "placeholder": "​",
            "style": "IPY_MODEL_60936396d7734892af1534a0e6c4ef77",
            "value": "Downloading (…)/main/tokenizer.json: 100%"
          }
        },
        "47914d71ddfc440795c1095359df5fa1": {
          "model_module": "@jupyter-widgets/controls",
          "model_module_version": "1.5.0",
          "model_name": "DescriptionStyleModel",
          "state": {
            "_model_module": "@jupyter-widgets/controls",
            "_model_module_version": "1.5.0",
            "_model_name": "DescriptionStyleModel",
            "_view_count": null,
            "_view_module": "@jupyter-widgets/base",
            "_view_module_version": "1.2.0",
            "_view_name": "StyleView",
            "description_width": ""
          }
        },
        "47cc67b7824a4b08bd0191a80d272c2b": {
          "model_module": "@jupyter-widgets/base",
          "model_module_version": "1.2.0",
          "model_name": "LayoutModel",
          "state": {
            "_model_module": "@jupyter-widgets/base",
            "_model_module_version": "1.2.0",
            "_model_name": "LayoutModel",
            "_view_count": null,
            "_view_module": "@jupyter-widgets/base",
            "_view_module_version": "1.2.0",
            "_view_name": "LayoutView",
            "align_content": null,
            "align_items": null,
            "align_self": null,
            "border": null,
            "bottom": null,
            "display": null,
            "flex": null,
            "flex_flow": null,
            "grid_area": null,
            "grid_auto_columns": null,
            "grid_auto_flow": null,
            "grid_auto_rows": null,
            "grid_column": null,
            "grid_gap": null,
            "grid_row": null,
            "grid_template_areas": null,
            "grid_template_columns": null,
            "grid_template_rows": null,
            "height": null,
            "justify_content": null,
            "justify_items": null,
            "left": null,
            "margin": null,
            "max_height": null,
            "max_width": null,
            "min_height": null,
            "min_width": null,
            "object_fit": null,
            "object_position": null,
            "order": null,
            "overflow": null,
            "overflow_x": null,
            "overflow_y": null,
            "padding": null,
            "right": null,
            "top": null,
            "visibility": null,
            "width": null
          }
        },
        "4975ac2bc66f4f92ab530a052264f4ed": {
          "model_module": "@jupyter-widgets/controls",
          "model_module_version": "1.5.0",
          "model_name": "HTMLModel",
          "state": {
            "_dom_classes": [],
            "_model_module": "@jupyter-widgets/controls",
            "_model_module_version": "1.5.0",
            "_model_name": "HTMLModel",
            "_view_count": null,
            "_view_module": "@jupyter-widgets/controls",
            "_view_module_version": "1.5.0",
            "_view_name": "HTMLView",
            "description": "",
            "description_tooltip": null,
            "layout": "IPY_MODEL_aa59d611e0b3487984839b12d092e015",
            "placeholder": "​",
            "style": "IPY_MODEL_76672fd654384c29b784e464a4024c2a",
            "value": " 500/500 [00:00&lt;00:00, 713.09 examples/s]"
          }
        },
        "4c20c73f7f644f6fb07fa1244013963b": {
          "model_module": "@jupyter-widgets/base",
          "model_module_version": "1.2.0",
          "model_name": "LayoutModel",
          "state": {
            "_model_module": "@jupyter-widgets/base",
            "_model_module_version": "1.2.0",
            "_model_name": "LayoutModel",
            "_view_count": null,
            "_view_module": "@jupyter-widgets/base",
            "_view_module_version": "1.2.0",
            "_view_name": "LayoutView",
            "align_content": null,
            "align_items": null,
            "align_self": null,
            "border": null,
            "bottom": null,
            "display": null,
            "flex": null,
            "flex_flow": null,
            "grid_area": null,
            "grid_auto_columns": null,
            "grid_auto_flow": null,
            "grid_auto_rows": null,
            "grid_column": null,
            "grid_gap": null,
            "grid_row": null,
            "grid_template_areas": null,
            "grid_template_columns": null,
            "grid_template_rows": null,
            "height": null,
            "justify_content": null,
            "justify_items": null,
            "left": null,
            "margin": null,
            "max_height": null,
            "max_width": null,
            "min_height": null,
            "min_width": null,
            "object_fit": null,
            "object_position": null,
            "order": null,
            "overflow": null,
            "overflow_x": null,
            "overflow_y": null,
            "padding": null,
            "right": null,
            "top": null,
            "visibility": null,
            "width": null
          }
        },
        "4d50ecc4b756448f9957c295802cacbe": {
          "model_module": "@jupyter-widgets/controls",
          "model_module_version": "1.5.0",
          "model_name": "ProgressStyleModel",
          "state": {
            "_model_module": "@jupyter-widgets/controls",
            "_model_module_version": "1.5.0",
            "_model_name": "ProgressStyleModel",
            "_view_count": null,
            "_view_module": "@jupyter-widgets/base",
            "_view_module_version": "1.2.0",
            "_view_name": "StyleView",
            "bar_color": null,
            "description_width": ""
          }
        },
        "5523fcf033ef4889ae4c4a08459789de": {
          "model_module": "@jupyter-widgets/controls",
          "model_module_version": "1.5.0",
          "model_name": "HBoxModel",
          "state": {
            "_dom_classes": [],
            "_model_module": "@jupyter-widgets/controls",
            "_model_module_version": "1.5.0",
            "_model_name": "HBoxModel",
            "_view_count": null,
            "_view_module": "@jupyter-widgets/controls",
            "_view_module_version": "1.5.0",
            "_view_name": "HBoxView",
            "box_style": "",
            "children": [
              "IPY_MODEL_45b39c51e9e841fdac8bd0f5e79205fe",
              "IPY_MODEL_a0b12fb829d0404da5d6601839b0f4f7",
              "IPY_MODEL_d16053106a9b4a05875e82afd8ed1aec"
            ],
            "layout": "IPY_MODEL_7937e13422e64d3f96ca03b6d871ab17"
          }
        },
        "59e00649de2144f786004d823b456892": {
          "model_module": "@jupyter-widgets/base",
          "model_module_version": "1.2.0",
          "model_name": "LayoutModel",
          "state": {
            "_model_module": "@jupyter-widgets/base",
            "_model_module_version": "1.2.0",
            "_model_name": "LayoutModel",
            "_view_count": null,
            "_view_module": "@jupyter-widgets/base",
            "_view_module_version": "1.2.0",
            "_view_name": "LayoutView",
            "align_content": null,
            "align_items": null,
            "align_self": null,
            "border": null,
            "bottom": null,
            "display": null,
            "flex": null,
            "flex_flow": null,
            "grid_area": null,
            "grid_auto_columns": null,
            "grid_auto_flow": null,
            "grid_auto_rows": null,
            "grid_column": null,
            "grid_gap": null,
            "grid_row": null,
            "grid_template_areas": null,
            "grid_template_columns": null,
            "grid_template_rows": null,
            "height": null,
            "justify_content": null,
            "justify_items": null,
            "left": null,
            "margin": null,
            "max_height": null,
            "max_width": null,
            "min_height": null,
            "min_width": null,
            "object_fit": null,
            "object_position": null,
            "order": null,
            "overflow": null,
            "overflow_x": null,
            "overflow_y": null,
            "padding": null,
            "right": null,
            "top": null,
            "visibility": null,
            "width": null
          }
        },
        "5a6431da151743028d7143378ea036a1": {
          "model_module": "@jupyter-widgets/controls",
          "model_module_version": "1.5.0",
          "model_name": "HTMLModel",
          "state": {
            "_dom_classes": [],
            "_model_module": "@jupyter-widgets/controls",
            "_model_module_version": "1.5.0",
            "_model_name": "HTMLModel",
            "_view_count": null,
            "_view_module": "@jupyter-widgets/controls",
            "_view_module_version": "1.5.0",
            "_view_name": "HTMLView",
            "description": "",
            "description_tooltip": null,
            "layout": "IPY_MODEL_aa57669056f243db941046d1dfbfa659",
            "placeholder": "​",
            "style": "IPY_MODEL_1001e419096b4824be34f9be66a69a17",
            "value": " 232k/232k [00:00&lt;00:00, 2.66MB/s]"
          }
        },
        "5bc87edf806e4e278ad4d00053cec996": {
          "model_module": "@jupyter-widgets/base",
          "model_module_version": "1.2.0",
          "model_name": "LayoutModel",
          "state": {
            "_model_module": "@jupyter-widgets/base",
            "_model_module_version": "1.2.0",
            "_model_name": "LayoutModel",
            "_view_count": null,
            "_view_module": "@jupyter-widgets/base",
            "_view_module_version": "1.2.0",
            "_view_name": "LayoutView",
            "align_content": null,
            "align_items": null,
            "align_self": null,
            "border": null,
            "bottom": null,
            "display": null,
            "flex": null,
            "flex_flow": null,
            "grid_area": null,
            "grid_auto_columns": null,
            "grid_auto_flow": null,
            "grid_auto_rows": null,
            "grid_column": null,
            "grid_gap": null,
            "grid_row": null,
            "grid_template_areas": null,
            "grid_template_columns": null,
            "grid_template_rows": null,
            "height": null,
            "justify_content": null,
            "justify_items": null,
            "left": null,
            "margin": null,
            "max_height": null,
            "max_width": null,
            "min_height": null,
            "min_width": null,
            "object_fit": null,
            "object_position": null,
            "order": null,
            "overflow": null,
            "overflow_x": null,
            "overflow_y": null,
            "padding": null,
            "right": null,
            "top": null,
            "visibility": null,
            "width": null
          }
        },
        "60936396d7734892af1534a0e6c4ef77": {
          "model_module": "@jupyter-widgets/controls",
          "model_module_version": "1.5.0",
          "model_name": "DescriptionStyleModel",
          "state": {
            "_model_module": "@jupyter-widgets/controls",
            "_model_module_version": "1.5.0",
            "_model_name": "DescriptionStyleModel",
            "_view_count": null,
            "_view_module": "@jupyter-widgets/base",
            "_view_module_version": "1.2.0",
            "_view_name": "StyleView",
            "description_width": ""
          }
        },
        "6a7e1e75698b48bb81cfe35a5d40c3db": {
          "model_module": "@jupyter-widgets/base",
          "model_module_version": "1.2.0",
          "model_name": "LayoutModel",
          "state": {
            "_model_module": "@jupyter-widgets/base",
            "_model_module_version": "1.2.0",
            "_model_name": "LayoutModel",
            "_view_count": null,
            "_view_module": "@jupyter-widgets/base",
            "_view_module_version": "1.2.0",
            "_view_name": "LayoutView",
            "align_content": null,
            "align_items": null,
            "align_self": null,
            "border": null,
            "bottom": null,
            "display": null,
            "flex": null,
            "flex_flow": null,
            "grid_area": null,
            "grid_auto_columns": null,
            "grid_auto_flow": null,
            "grid_auto_rows": null,
            "grid_column": null,
            "grid_gap": null,
            "grid_row": null,
            "grid_template_areas": null,
            "grid_template_columns": null,
            "grid_template_rows": null,
            "height": null,
            "justify_content": null,
            "justify_items": null,
            "left": null,
            "margin": null,
            "max_height": null,
            "max_width": null,
            "min_height": null,
            "min_width": null,
            "object_fit": null,
            "object_position": null,
            "order": null,
            "overflow": null,
            "overflow_x": null,
            "overflow_y": null,
            "padding": null,
            "right": null,
            "top": null,
            "visibility": null,
            "width": null
          }
        },
        "6bfa35e1e92d4961aa9c25cf3ecd5086": {
          "model_module": "@jupyter-widgets/controls",
          "model_module_version": "1.5.0",
          "model_name": "FloatProgressModel",
          "state": {
            "_dom_classes": [],
            "_model_module": "@jupyter-widgets/controls",
            "_model_module_version": "1.5.0",
            "_model_name": "FloatProgressModel",
            "_view_count": null,
            "_view_module": "@jupyter-widgets/controls",
            "_view_module_version": "1.5.0",
            "_view_name": "ProgressView",
            "bar_style": "success",
            "description": "",
            "description_tooltip": null,
            "layout": "IPY_MODEL_8566784cbebc4fc1a6a92a34bf56def2",
            "max": 500,
            "min": 0,
            "orientation": "horizontal",
            "style": "IPY_MODEL_387daf9403c44b47a369b9a2ccac07c6",
            "value": 500
          }
        },
        "76672fd654384c29b784e464a4024c2a": {
          "model_module": "@jupyter-widgets/controls",
          "model_module_version": "1.5.0",
          "model_name": "DescriptionStyleModel",
          "state": {
            "_model_module": "@jupyter-widgets/controls",
            "_model_module_version": "1.5.0",
            "_model_name": "DescriptionStyleModel",
            "_view_count": null,
            "_view_module": "@jupyter-widgets/base",
            "_view_module_version": "1.2.0",
            "_view_name": "StyleView",
            "description_width": ""
          }
        },
        "7816c32462a548a190303e93c5636859": {
          "model_module": "@jupyter-widgets/base",
          "model_module_version": "1.2.0",
          "model_name": "LayoutModel",
          "state": {
            "_model_module": "@jupyter-widgets/base",
            "_model_module_version": "1.2.0",
            "_model_name": "LayoutModel",
            "_view_count": null,
            "_view_module": "@jupyter-widgets/base",
            "_view_module_version": "1.2.0",
            "_view_name": "LayoutView",
            "align_content": null,
            "align_items": null,
            "align_self": null,
            "border": null,
            "bottom": null,
            "display": null,
            "flex": null,
            "flex_flow": null,
            "grid_area": null,
            "grid_auto_columns": null,
            "grid_auto_flow": null,
            "grid_auto_rows": null,
            "grid_column": null,
            "grid_gap": null,
            "grid_row": null,
            "grid_template_areas": null,
            "grid_template_columns": null,
            "grid_template_rows": null,
            "height": null,
            "justify_content": null,
            "justify_items": null,
            "left": null,
            "margin": null,
            "max_height": null,
            "max_width": null,
            "min_height": null,
            "min_width": null,
            "object_fit": null,
            "object_position": null,
            "order": null,
            "overflow": null,
            "overflow_x": null,
            "overflow_y": null,
            "padding": null,
            "right": null,
            "top": null,
            "visibility": null,
            "width": null
          }
        },
        "7937e13422e64d3f96ca03b6d871ab17": {
          "model_module": "@jupyter-widgets/base",
          "model_module_version": "1.2.0",
          "model_name": "LayoutModel",
          "state": {
            "_model_module": "@jupyter-widgets/base",
            "_model_module_version": "1.2.0",
            "_model_name": "LayoutModel",
            "_view_count": null,
            "_view_module": "@jupyter-widgets/base",
            "_view_module_version": "1.2.0",
            "_view_name": "LayoutView",
            "align_content": null,
            "align_items": null,
            "align_self": null,
            "border": null,
            "bottom": null,
            "display": null,
            "flex": null,
            "flex_flow": null,
            "grid_area": null,
            "grid_auto_columns": null,
            "grid_auto_flow": null,
            "grid_auto_rows": null,
            "grid_column": null,
            "grid_gap": null,
            "grid_row": null,
            "grid_template_areas": null,
            "grid_template_columns": null,
            "grid_template_rows": null,
            "height": null,
            "justify_content": null,
            "justify_items": null,
            "left": null,
            "margin": null,
            "max_height": null,
            "max_width": null,
            "min_height": null,
            "min_width": null,
            "object_fit": null,
            "object_position": null,
            "order": null,
            "overflow": null,
            "overflow_x": null,
            "overflow_y": null,
            "padding": null,
            "right": null,
            "top": null,
            "visibility": null,
            "width": null
          }
        },
        "7ab1e6c4ac8a425ab4e50db6e0ce1827": {
          "model_module": "@jupyter-widgets/controls",
          "model_module_version": "1.5.0",
          "model_name": "ProgressStyleModel",
          "state": {
            "_model_module": "@jupyter-widgets/controls",
            "_model_module_version": "1.5.0",
            "_model_name": "ProgressStyleModel",
            "_view_count": null,
            "_view_module": "@jupyter-widgets/base",
            "_view_module_version": "1.2.0",
            "_view_name": "StyleView",
            "bar_color": null,
            "description_width": ""
          }
        },
        "7c549d20cc45464392249e8c39cba0fe": {
          "model_module": "@jupyter-widgets/controls",
          "model_module_version": "1.5.0",
          "model_name": "DescriptionStyleModel",
          "state": {
            "_model_module": "@jupyter-widgets/controls",
            "_model_module_version": "1.5.0",
            "_model_name": "DescriptionStyleModel",
            "_view_count": null,
            "_view_module": "@jupyter-widgets/base",
            "_view_module_version": "1.2.0",
            "_view_name": "StyleView",
            "description_width": ""
          }
        },
        "8566784cbebc4fc1a6a92a34bf56def2": {
          "model_module": "@jupyter-widgets/base",
          "model_module_version": "1.2.0",
          "model_name": "LayoutModel",
          "state": {
            "_model_module": "@jupyter-widgets/base",
            "_model_module_version": "1.2.0",
            "_model_name": "LayoutModel",
            "_view_count": null,
            "_view_module": "@jupyter-widgets/base",
            "_view_module_version": "1.2.0",
            "_view_name": "LayoutView",
            "align_content": null,
            "align_items": null,
            "align_self": null,
            "border": null,
            "bottom": null,
            "display": null,
            "flex": null,
            "flex_flow": null,
            "grid_area": null,
            "grid_auto_columns": null,
            "grid_auto_flow": null,
            "grid_auto_rows": null,
            "grid_column": null,
            "grid_gap": null,
            "grid_row": null,
            "grid_template_areas": null,
            "grid_template_columns": null,
            "grid_template_rows": null,
            "height": null,
            "justify_content": null,
            "justify_items": null,
            "left": null,
            "margin": null,
            "max_height": null,
            "max_width": null,
            "min_height": null,
            "min_width": null,
            "object_fit": null,
            "object_position": null,
            "order": null,
            "overflow": null,
            "overflow_x": null,
            "overflow_y": null,
            "padding": null,
            "right": null,
            "top": null,
            "visibility": null,
            "width": null
          }
        },
        "88d624c525ab4d76b07bdb32ec767f1b": {
          "model_module": "@jupyter-widgets/controls",
          "model_module_version": "1.5.0",
          "model_name": "FloatProgressModel",
          "state": {
            "_dom_classes": [],
            "_model_module": "@jupyter-widgets/controls",
            "_model_module_version": "1.5.0",
            "_model_name": "FloatProgressModel",
            "_view_count": null,
            "_view_module": "@jupyter-widgets/controls",
            "_view_module_version": "1.5.0",
            "_view_name": "ProgressView",
            "bar_style": "success",
            "description": "",
            "description_tooltip": null,
            "layout": "IPY_MODEL_3c78c249217c4928beaf64b279d0068f",
            "max": 28,
            "min": 0,
            "orientation": "horizontal",
            "style": "IPY_MODEL_ac5505c49488470995c34d9f98b5c40e",
            "value": 28
          }
        },
        "8af4d8c791644260b9c09a25c9d349e0": {
          "model_module": "@jupyter-widgets/controls",
          "model_module_version": "1.5.0",
          "model_name": "HTMLModel",
          "state": {
            "_dom_classes": [],
            "_model_module": "@jupyter-widgets/controls",
            "_model_module_version": "1.5.0",
            "_model_name": "HTMLModel",
            "_view_count": null,
            "_view_module": "@jupyter-widgets/controls",
            "_view_module_version": "1.5.0",
            "_view_name": "HTMLView",
            "description": "",
            "description_tooltip": null,
            "layout": "IPY_MODEL_12c15eb24b6d445389c7143a294946d0",
            "placeholder": "​",
            "style": "IPY_MODEL_a67d963210754b059c06b3103a5926c0",
            "value": "Map: 100%"
          }
        },
        "8cf2b83cfd9b448589fbeceb2705e34b": {
          "model_module": "@jupyter-widgets/base",
          "model_module_version": "1.2.0",
          "model_name": "LayoutModel",
          "state": {
            "_model_module": "@jupyter-widgets/base",
            "_model_module_version": "1.2.0",
            "_model_name": "LayoutModel",
            "_view_count": null,
            "_view_module": "@jupyter-widgets/base",
            "_view_module_version": "1.2.0",
            "_view_name": "LayoutView",
            "align_content": null,
            "align_items": null,
            "align_self": null,
            "border": null,
            "bottom": null,
            "display": null,
            "flex": null,
            "flex_flow": null,
            "grid_area": null,
            "grid_auto_columns": null,
            "grid_auto_flow": null,
            "grid_auto_rows": null,
            "grid_column": null,
            "grid_gap": null,
            "grid_row": null,
            "grid_template_areas": null,
            "grid_template_columns": null,
            "grid_template_rows": null,
            "height": null,
            "justify_content": null,
            "justify_items": null,
            "left": null,
            "margin": null,
            "max_height": null,
            "max_width": null,
            "min_height": null,
            "min_width": null,
            "object_fit": null,
            "object_position": null,
            "order": null,
            "overflow": null,
            "overflow_x": null,
            "overflow_y": null,
            "padding": null,
            "right": null,
            "top": null,
            "visibility": null,
            "width": null
          }
        },
        "8f073925b2de42618109b3e9801677f0": {
          "model_module": "@jupyter-widgets/controls",
          "model_module_version": "1.5.0",
          "model_name": "HTMLModel",
          "state": {
            "_dom_classes": [],
            "_model_module": "@jupyter-widgets/controls",
            "_model_module_version": "1.5.0",
            "_model_name": "HTMLModel",
            "_view_count": null,
            "_view_module": "@jupyter-widgets/controls",
            "_view_module_version": "1.5.0",
            "_view_name": "HTMLView",
            "description": "",
            "description_tooltip": null,
            "layout": "IPY_MODEL_fa3d37d80cc3452b91cc4e94a2702918",
            "placeholder": "​",
            "style": "IPY_MODEL_df2f0676b2004a3aa5234ff0acbc8fdc",
            "value": "Downloading (…)lve/main/config.json: 100%"
          }
        },
        "8fd7be26384f4f00b24f1d01d5275283": {
          "model_module": "@jupyter-widgets/controls",
          "model_module_version": "1.5.0",
          "model_name": "HTMLModel",
          "state": {
            "_dom_classes": [],
            "_model_module": "@jupyter-widgets/controls",
            "_model_module_version": "1.5.0",
            "_model_name": "HTMLModel",
            "_view_count": null,
            "_view_module": "@jupyter-widgets/controls",
            "_view_module_version": "1.5.0",
            "_view_name": "HTMLView",
            "description": "",
            "description_tooltip": null,
            "layout": "IPY_MODEL_7816c32462a548a190303e93c5636859",
            "placeholder": "​",
            "style": "IPY_MODEL_38436008275c409da8fe6e4c064f360a",
            "value": " 1000/1000 [00:03&lt;00:00, 254.86 examples/s]"
          }
        },
        "9098728928ae41b59a7d417973b6cf18": {
          "model_module": "@jupyter-widgets/controls",
          "model_module_version": "1.5.0",
          "model_name": "HTMLModel",
          "state": {
            "_dom_classes": [],
            "_model_module": "@jupyter-widgets/controls",
            "_model_module_version": "1.5.0",
            "_model_name": "HTMLModel",
            "_view_count": null,
            "_view_module": "@jupyter-widgets/controls",
            "_view_module_version": "1.5.0",
            "_view_name": "HTMLView",
            "description": "",
            "description_tooltip": null,
            "layout": "IPY_MODEL_9aa5786e367a4e1e997390d9f9cbca44",
            "placeholder": "​",
            "style": "IPY_MODEL_0e940f115501424f9d68f7596629c61e",
            "value": " 483/483 [00:00&lt;00:00, 14.0kB/s]"
          }
        },
        "9a695264d8d1434c9fe0465b8d90ad8c": {
          "model_module": "@jupyter-widgets/controls",
          "model_module_version": "1.5.0",
          "model_name": "HBoxModel",
          "state": {
            "_dom_classes": [],
            "_model_module": "@jupyter-widgets/controls",
            "_model_module_version": "1.5.0",
            "_model_name": "HBoxModel",
            "_view_count": null,
            "_view_module": "@jupyter-widgets/controls",
            "_view_module_version": "1.5.0",
            "_view_name": "HBoxView",
            "box_style": "",
            "children": [
              "IPY_MODEL_d6ec06cbcb13488da766d8ca93f507c5",
              "IPY_MODEL_88d624c525ab4d76b07bdb32ec767f1b",
              "IPY_MODEL_e56225310d40490aacbeed68b109c339"
            ],
            "layout": "IPY_MODEL_e0ce7c789bae466294df9ae2390016ee"
          }
        },
        "9aa5786e367a4e1e997390d9f9cbca44": {
          "model_module": "@jupyter-widgets/base",
          "model_module_version": "1.2.0",
          "model_name": "LayoutModel",
          "state": {
            "_model_module": "@jupyter-widgets/base",
            "_model_module_version": "1.2.0",
            "_model_name": "LayoutModel",
            "_view_count": null,
            "_view_module": "@jupyter-widgets/base",
            "_view_module_version": "1.2.0",
            "_view_name": "LayoutView",
            "align_content": null,
            "align_items": null,
            "align_self": null,
            "border": null,
            "bottom": null,
            "display": null,
            "flex": null,
            "flex_flow": null,
            "grid_area": null,
            "grid_auto_columns": null,
            "grid_auto_flow": null,
            "grid_auto_rows": null,
            "grid_column": null,
            "grid_gap": null,
            "grid_row": null,
            "grid_template_areas": null,
            "grid_template_columns": null,
            "grid_template_rows": null,
            "height": null,
            "justify_content": null,
            "justify_items": null,
            "left": null,
            "margin": null,
            "max_height": null,
            "max_width": null,
            "min_height": null,
            "min_width": null,
            "object_fit": null,
            "object_position": null,
            "order": null,
            "overflow": null,
            "overflow_x": null,
            "overflow_y": null,
            "padding": null,
            "right": null,
            "top": null,
            "visibility": null,
            "width": null
          }
        },
        "9c08652198e141ca8af0c711b85f869c": {
          "model_module": "@jupyter-widgets/base",
          "model_module_version": "1.2.0",
          "model_name": "LayoutModel",
          "state": {
            "_model_module": "@jupyter-widgets/base",
            "_model_module_version": "1.2.0",
            "_model_name": "LayoutModel",
            "_view_count": null,
            "_view_module": "@jupyter-widgets/base",
            "_view_module_version": "1.2.0",
            "_view_name": "LayoutView",
            "align_content": null,
            "align_items": null,
            "align_self": null,
            "border": null,
            "bottom": null,
            "display": null,
            "flex": null,
            "flex_flow": null,
            "grid_area": null,
            "grid_auto_columns": null,
            "grid_auto_flow": null,
            "grid_auto_rows": null,
            "grid_column": null,
            "grid_gap": null,
            "grid_row": null,
            "grid_template_areas": null,
            "grid_template_columns": null,
            "grid_template_rows": null,
            "height": null,
            "justify_content": null,
            "justify_items": null,
            "left": null,
            "margin": null,
            "max_height": null,
            "max_width": null,
            "min_height": null,
            "min_width": null,
            "object_fit": null,
            "object_position": null,
            "order": null,
            "overflow": null,
            "overflow_x": null,
            "overflow_y": null,
            "padding": null,
            "right": null,
            "top": null,
            "visibility": null,
            "width": null
          }
        },
        "9c0e1c3b5d05407ebda6ad071def6a74": {
          "model_module": "@jupyter-widgets/controls",
          "model_module_version": "1.5.0",
          "model_name": "DescriptionStyleModel",
          "state": {
            "_model_module": "@jupyter-widgets/controls",
            "_model_module_version": "1.5.0",
            "_model_name": "DescriptionStyleModel",
            "_view_count": null,
            "_view_module": "@jupyter-widgets/base",
            "_view_module_version": "1.2.0",
            "_view_name": "StyleView",
            "description_width": ""
          }
        },
        "a0b12fb829d0404da5d6601839b0f4f7": {
          "model_module": "@jupyter-widgets/controls",
          "model_module_version": "1.5.0",
          "model_name": "FloatProgressModel",
          "state": {
            "_dom_classes": [],
            "_model_module": "@jupyter-widgets/controls",
            "_model_module_version": "1.5.0",
            "_model_name": "FloatProgressModel",
            "_view_count": null,
            "_view_module": "@jupyter-widgets/controls",
            "_view_module_version": "1.5.0",
            "_view_name": "ProgressView",
            "bar_style": "success",
            "description": "",
            "description_tooltip": null,
            "layout": "IPY_MODEL_8cf2b83cfd9b448589fbeceb2705e34b",
            "max": 466062,
            "min": 0,
            "orientation": "horizontal",
            "style": "IPY_MODEL_ea2f5f7af4fd40e0b21b61fbc84cf880",
            "value": 466062
          }
        },
        "a247837183d0447aaabea845c0c9e4e1": {
          "model_module": "@jupyter-widgets/controls",
          "model_module_version": "1.5.0",
          "model_name": "DescriptionStyleModel",
          "state": {
            "_model_module": "@jupyter-widgets/controls",
            "_model_module_version": "1.5.0",
            "_model_name": "DescriptionStyleModel",
            "_view_count": null,
            "_view_module": "@jupyter-widgets/base",
            "_view_module_version": "1.2.0",
            "_view_name": "StyleView",
            "description_width": ""
          }
        },
        "a67d963210754b059c06b3103a5926c0": {
          "model_module": "@jupyter-widgets/controls",
          "model_module_version": "1.5.0",
          "model_name": "DescriptionStyleModel",
          "state": {
            "_model_module": "@jupyter-widgets/controls",
            "_model_module_version": "1.5.0",
            "_model_name": "DescriptionStyleModel",
            "_view_count": null,
            "_view_module": "@jupyter-widgets/base",
            "_view_module_version": "1.2.0",
            "_view_name": "StyleView",
            "description_width": ""
          }
        },
        "aa57669056f243db941046d1dfbfa659": {
          "model_module": "@jupyter-widgets/base",
          "model_module_version": "1.2.0",
          "model_name": "LayoutModel",
          "state": {
            "_model_module": "@jupyter-widgets/base",
            "_model_module_version": "1.2.0",
            "_model_name": "LayoutModel",
            "_view_count": null,
            "_view_module": "@jupyter-widgets/base",
            "_view_module_version": "1.2.0",
            "_view_name": "LayoutView",
            "align_content": null,
            "align_items": null,
            "align_self": null,
            "border": null,
            "bottom": null,
            "display": null,
            "flex": null,
            "flex_flow": null,
            "grid_area": null,
            "grid_auto_columns": null,
            "grid_auto_flow": null,
            "grid_auto_rows": null,
            "grid_column": null,
            "grid_gap": null,
            "grid_row": null,
            "grid_template_areas": null,
            "grid_template_columns": null,
            "grid_template_rows": null,
            "height": null,
            "justify_content": null,
            "justify_items": null,
            "left": null,
            "margin": null,
            "max_height": null,
            "max_width": null,
            "min_height": null,
            "min_width": null,
            "object_fit": null,
            "object_position": null,
            "order": null,
            "overflow": null,
            "overflow_x": null,
            "overflow_y": null,
            "padding": null,
            "right": null,
            "top": null,
            "visibility": null,
            "width": null
          }
        },
        "aa59d611e0b3487984839b12d092e015": {
          "model_module": "@jupyter-widgets/base",
          "model_module_version": "1.2.0",
          "model_name": "LayoutModel",
          "state": {
            "_model_module": "@jupyter-widgets/base",
            "_model_module_version": "1.2.0",
            "_model_name": "LayoutModel",
            "_view_count": null,
            "_view_module": "@jupyter-widgets/base",
            "_view_module_version": "1.2.0",
            "_view_name": "LayoutView",
            "align_content": null,
            "align_items": null,
            "align_self": null,
            "border": null,
            "bottom": null,
            "display": null,
            "flex": null,
            "flex_flow": null,
            "grid_area": null,
            "grid_auto_columns": null,
            "grid_auto_flow": null,
            "grid_auto_rows": null,
            "grid_column": null,
            "grid_gap": null,
            "grid_row": null,
            "grid_template_areas": null,
            "grid_template_columns": null,
            "grid_template_rows": null,
            "height": null,
            "justify_content": null,
            "justify_items": null,
            "left": null,
            "margin": null,
            "max_height": null,
            "max_width": null,
            "min_height": null,
            "min_width": null,
            "object_fit": null,
            "object_position": null,
            "order": null,
            "overflow": null,
            "overflow_x": null,
            "overflow_y": null,
            "padding": null,
            "right": null,
            "top": null,
            "visibility": null,
            "width": null
          }
        },
        "ac5505c49488470995c34d9f98b5c40e": {
          "model_module": "@jupyter-widgets/controls",
          "model_module_version": "1.5.0",
          "model_name": "ProgressStyleModel",
          "state": {
            "_model_module": "@jupyter-widgets/controls",
            "_model_module_version": "1.5.0",
            "_model_name": "ProgressStyleModel",
            "_view_count": null,
            "_view_module": "@jupyter-widgets/base",
            "_view_module_version": "1.2.0",
            "_view_name": "StyleView",
            "bar_color": null,
            "description_width": ""
          }
        },
        "b30d7ce828b0454babb0da184764a2bf": {
          "model_module": "@jupyter-widgets/base",
          "model_module_version": "1.2.0",
          "model_name": "LayoutModel",
          "state": {
            "_model_module": "@jupyter-widgets/base",
            "_model_module_version": "1.2.0",
            "_model_name": "LayoutModel",
            "_view_count": null,
            "_view_module": "@jupyter-widgets/base",
            "_view_module_version": "1.2.0",
            "_view_name": "LayoutView",
            "align_content": null,
            "align_items": null,
            "align_self": null,
            "border": null,
            "bottom": null,
            "display": null,
            "flex": null,
            "flex_flow": null,
            "grid_area": null,
            "grid_auto_columns": null,
            "grid_auto_flow": null,
            "grid_auto_rows": null,
            "grid_column": null,
            "grid_gap": null,
            "grid_row": null,
            "grid_template_areas": null,
            "grid_template_columns": null,
            "grid_template_rows": null,
            "height": null,
            "justify_content": null,
            "justify_items": null,
            "left": null,
            "margin": null,
            "max_height": null,
            "max_width": null,
            "min_height": null,
            "min_width": null,
            "object_fit": null,
            "object_position": null,
            "order": null,
            "overflow": null,
            "overflow_x": null,
            "overflow_y": null,
            "padding": null,
            "right": null,
            "top": null,
            "visibility": null,
            "width": null
          }
        },
        "b32342335a5046edb964d589aa48feb1": {
          "model_module": "@jupyter-widgets/controls",
          "model_module_version": "1.5.0",
          "model_name": "DescriptionStyleModel",
          "state": {
            "_model_module": "@jupyter-widgets/controls",
            "_model_module_version": "1.5.0",
            "_model_name": "DescriptionStyleModel",
            "_view_count": null,
            "_view_module": "@jupyter-widgets/base",
            "_view_module_version": "1.2.0",
            "_view_name": "StyleView",
            "description_width": ""
          }
        },
        "b7091b01c0b94be8b173aea58594cec9": {
          "model_module": "@jupyter-widgets/base",
          "model_module_version": "1.2.0",
          "model_name": "LayoutModel",
          "state": {
            "_model_module": "@jupyter-widgets/base",
            "_model_module_version": "1.2.0",
            "_model_name": "LayoutModel",
            "_view_count": null,
            "_view_module": "@jupyter-widgets/base",
            "_view_module_version": "1.2.0",
            "_view_name": "LayoutView",
            "align_content": null,
            "align_items": null,
            "align_self": null,
            "border": null,
            "bottom": null,
            "display": null,
            "flex": null,
            "flex_flow": null,
            "grid_area": null,
            "grid_auto_columns": null,
            "grid_auto_flow": null,
            "grid_auto_rows": null,
            "grid_column": null,
            "grid_gap": null,
            "grid_row": null,
            "grid_template_areas": null,
            "grid_template_columns": null,
            "grid_template_rows": null,
            "height": null,
            "justify_content": null,
            "justify_items": null,
            "left": null,
            "margin": null,
            "max_height": null,
            "max_width": null,
            "min_height": null,
            "min_width": null,
            "object_fit": null,
            "object_position": null,
            "order": null,
            "overflow": null,
            "overflow_x": null,
            "overflow_y": null,
            "padding": null,
            "right": null,
            "top": null,
            "visibility": null,
            "width": null
          }
        },
        "b710015fba6a4d0f872282e837907e4b": {
          "model_module": "@jupyter-widgets/controls",
          "model_module_version": "1.5.0",
          "model_name": "HBoxModel",
          "state": {
            "_dom_classes": [],
            "_model_module": "@jupyter-widgets/controls",
            "_model_module_version": "1.5.0",
            "_model_name": "HBoxModel",
            "_view_count": null,
            "_view_module": "@jupyter-widgets/controls",
            "_view_module_version": "1.5.0",
            "_view_name": "HBoxView",
            "box_style": "",
            "children": [
              "IPY_MODEL_c80103426ad648668900f49c4918ca99",
              "IPY_MODEL_c0dafae5e60c4fcdbb2b3accc33672f8",
              "IPY_MODEL_4975ac2bc66f4f92ab530a052264f4ed"
            ],
            "layout": "IPY_MODEL_9c08652198e141ca8af0c711b85f869c"
          }
        },
        "b7d13acfa797419c9d716801cfccd464": {
          "model_module": "@jupyter-widgets/controls",
          "model_module_version": "1.5.0",
          "model_name": "DescriptionStyleModel",
          "state": {
            "_model_module": "@jupyter-widgets/controls",
            "_model_module_version": "1.5.0",
            "_model_name": "DescriptionStyleModel",
            "_view_count": null,
            "_view_module": "@jupyter-widgets/base",
            "_view_module_version": "1.2.0",
            "_view_name": "StyleView",
            "description_width": ""
          }
        },
        "bb3d5b0b10794d96995857cd9cf77e06": {
          "model_module": "@jupyter-widgets/controls",
          "model_module_version": "1.5.0",
          "model_name": "HTMLModel",
          "state": {
            "_dom_classes": [],
            "_model_module": "@jupyter-widgets/controls",
            "_model_module_version": "1.5.0",
            "_model_name": "HTMLModel",
            "_view_count": null,
            "_view_module": "@jupyter-widgets/controls",
            "_view_module_version": "1.5.0",
            "_view_name": "HTMLView",
            "description": "",
            "description_tooltip": null,
            "layout": "IPY_MODEL_34c7d26c6f6147a482dd8f6b713bf74c",
            "placeholder": "​",
            "style": "IPY_MODEL_a247837183d0447aaabea845c0c9e4e1",
            "value": "Downloading (…)solve/main/vocab.txt: 100%"
          }
        },
        "befc5b1fc0cb4a99ace5443e100733ff": {
          "model_module": "@jupyter-widgets/controls",
          "model_module_version": "1.5.0",
          "model_name": "FloatProgressModel",
          "state": {
            "_dom_classes": [],
            "_model_module": "@jupyter-widgets/controls",
            "_model_module_version": "1.5.0",
            "_model_name": "FloatProgressModel",
            "_view_count": null,
            "_view_module": "@jupyter-widgets/controls",
            "_view_module_version": "1.5.0",
            "_view_name": "ProgressView",
            "bar_style": "success",
            "description": "",
            "description_tooltip": null,
            "layout": "IPY_MODEL_f7a020392faf4248868654bba155ad77",
            "max": 1000,
            "min": 0,
            "orientation": "horizontal",
            "style": "IPY_MODEL_7ab1e6c4ac8a425ab4e50db6e0ce1827",
            "value": 1000
          }
        },
        "bf34cc75ade444859c9e5ba7f7be30a8": {
          "model_module": "@jupyter-widgets/base",
          "model_module_version": "1.2.0",
          "model_name": "LayoutModel",
          "state": {
            "_model_module": "@jupyter-widgets/base",
            "_model_module_version": "1.2.0",
            "_model_name": "LayoutModel",
            "_view_count": null,
            "_view_module": "@jupyter-widgets/base",
            "_view_module_version": "1.2.0",
            "_view_name": "LayoutView",
            "align_content": null,
            "align_items": null,
            "align_self": null,
            "border": null,
            "bottom": null,
            "display": null,
            "flex": null,
            "flex_flow": null,
            "grid_area": null,
            "grid_auto_columns": null,
            "grid_auto_flow": null,
            "grid_auto_rows": null,
            "grid_column": null,
            "grid_gap": null,
            "grid_row": null,
            "grid_template_areas": null,
            "grid_template_columns": null,
            "grid_template_rows": null,
            "height": null,
            "justify_content": null,
            "justify_items": null,
            "left": null,
            "margin": null,
            "max_height": null,
            "max_width": null,
            "min_height": null,
            "min_width": null,
            "object_fit": null,
            "object_position": null,
            "order": null,
            "overflow": null,
            "overflow_x": null,
            "overflow_y": null,
            "padding": null,
            "right": null,
            "top": null,
            "visibility": null,
            "width": null
          }
        },
        "c0dafae5e60c4fcdbb2b3accc33672f8": {
          "model_module": "@jupyter-widgets/controls",
          "model_module_version": "1.5.0",
          "model_name": "FloatProgressModel",
          "state": {
            "_dom_classes": [],
            "_model_module": "@jupyter-widgets/controls",
            "_model_module_version": "1.5.0",
            "_model_name": "FloatProgressModel",
            "_view_count": null,
            "_view_module": "@jupyter-widgets/controls",
            "_view_module_version": "1.5.0",
            "_view_name": "ProgressView",
            "bar_style": "success",
            "description": "",
            "description_tooltip": null,
            "layout": "IPY_MODEL_2821b58e5aab4ec19188a4d6c6b420de",
            "max": 500,
            "min": 0,
            "orientation": "horizontal",
            "style": "IPY_MODEL_f77b84e2a4024abf9a30b2f978ab6e70",
            "value": 500
          }
        },
        "c80103426ad648668900f49c4918ca99": {
          "model_module": "@jupyter-widgets/controls",
          "model_module_version": "1.5.0",
          "model_name": "HTMLModel",
          "state": {
            "_dom_classes": [],
            "_model_module": "@jupyter-widgets/controls",
            "_model_module_version": "1.5.0",
            "_model_name": "HTMLModel",
            "_view_count": null,
            "_view_module": "@jupyter-widgets/controls",
            "_view_module_version": "1.5.0",
            "_view_name": "HTMLView",
            "description": "",
            "description_tooltip": null,
            "layout": "IPY_MODEL_b7091b01c0b94be8b173aea58594cec9",
            "placeholder": "​",
            "style": "IPY_MODEL_47914d71ddfc440795c1095359df5fa1",
            "value": "Map: 100%"
          }
        },
        "c95fdeedff6c42e5be7ce9b1df5d1405": {
          "model_module": "@jupyter-widgets/controls",
          "model_module_version": "1.5.0",
          "model_name": "DescriptionStyleModel",
          "state": {
            "_model_module": "@jupyter-widgets/controls",
            "_model_module_version": "1.5.0",
            "_model_name": "DescriptionStyleModel",
            "_view_count": null,
            "_view_module": "@jupyter-widgets/base",
            "_view_module_version": "1.2.0",
            "_view_name": "StyleView",
            "description_width": ""
          }
        },
        "d16053106a9b4a05875e82afd8ed1aec": {
          "model_module": "@jupyter-widgets/controls",
          "model_module_version": "1.5.0",
          "model_name": "HTMLModel",
          "state": {
            "_dom_classes": [],
            "_model_module": "@jupyter-widgets/controls",
            "_model_module_version": "1.5.0",
            "_model_name": "HTMLModel",
            "_view_count": null,
            "_view_module": "@jupyter-widgets/controls",
            "_view_module_version": "1.5.0",
            "_view_name": "HTMLView",
            "description": "",
            "description_tooltip": null,
            "layout": "IPY_MODEL_ed85a190acfa4048939c20bf8e2aaea8",
            "placeholder": "​",
            "style": "IPY_MODEL_7c549d20cc45464392249e8c39cba0fe",
            "value": " 466k/466k [00:00&lt;00:00, 2.20MB/s]"
          }
        },
        "d211400119db432e951ce3b1718973cf": {
          "model_module": "@jupyter-widgets/controls",
          "model_module_version": "1.5.0",
          "model_name": "HBoxModel",
          "state": {
            "_dom_classes": [],
            "_model_module": "@jupyter-widgets/controls",
            "_model_module_version": "1.5.0",
            "_model_name": "HBoxModel",
            "_view_count": null,
            "_view_module": "@jupyter-widgets/controls",
            "_view_module_version": "1.5.0",
            "_view_name": "HBoxView",
            "box_style": "",
            "children": [
              "IPY_MODEL_2b2c28ff5070482c8548d5c5b1c8d0f9",
              "IPY_MODEL_6bfa35e1e92d4961aa9c25cf3ecd5086",
              "IPY_MODEL_edd78b2ea00649369293384ed138d2c2"
            ],
            "layout": "IPY_MODEL_bf34cc75ade444859c9e5ba7f7be30a8"
          }
        },
        "d26cef59f2c5490db82b34bd46980af3": {
          "model_module": "@jupyter-widgets/controls",
          "model_module_version": "1.5.0",
          "model_name": "HBoxModel",
          "state": {
            "_dom_classes": [],
            "_model_module": "@jupyter-widgets/controls",
            "_model_module_version": "1.5.0",
            "_model_name": "HBoxModel",
            "_view_count": null,
            "_view_module": "@jupyter-widgets/controls",
            "_view_module_version": "1.5.0",
            "_view_name": "HBoxView",
            "box_style": "",
            "children": [
              "IPY_MODEL_8af4d8c791644260b9c09a25c9d349e0",
              "IPY_MODEL_befc5b1fc0cb4a99ace5443e100733ff",
              "IPY_MODEL_8fd7be26384f4f00b24f1d01d5275283"
            ],
            "layout": "IPY_MODEL_59e00649de2144f786004d823b456892"
          }
        },
        "d6ec06cbcb13488da766d8ca93f507c5": {
          "model_module": "@jupyter-widgets/controls",
          "model_module_version": "1.5.0",
          "model_name": "HTMLModel",
          "state": {
            "_dom_classes": [],
            "_model_module": "@jupyter-widgets/controls",
            "_model_module_version": "1.5.0",
            "_model_name": "HTMLModel",
            "_view_count": null,
            "_view_module": "@jupyter-widgets/controls",
            "_view_module_version": "1.5.0",
            "_view_name": "HTMLView",
            "description": "",
            "description_tooltip": null,
            "layout": "IPY_MODEL_6a7e1e75698b48bb81cfe35a5d40c3db",
            "placeholder": "​",
            "style": "IPY_MODEL_b7d13acfa797419c9d716801cfccd464",
            "value": "Downloading (…)okenizer_config.json: 100%"
          }
        },
        "dc85e3d397e5439a96c316b26050ee17": {
          "model_module": "@jupyter-widgets/controls",
          "model_module_version": "1.5.0",
          "model_name": "FloatProgressModel",
          "state": {
            "_dom_classes": [],
            "_model_module": "@jupyter-widgets/controls",
            "_model_module_version": "1.5.0",
            "_model_name": "FloatProgressModel",
            "_view_count": null,
            "_view_module": "@jupyter-widgets/controls",
            "_view_module_version": "1.5.0",
            "_view_name": "ProgressView",
            "bar_style": "success",
            "description": "",
            "description_tooltip": null,
            "layout": "IPY_MODEL_4c20c73f7f644f6fb07fa1244013963b",
            "max": 483,
            "min": 0,
            "orientation": "horizontal",
            "style": "IPY_MODEL_4d50ecc4b756448f9957c295802cacbe",
            "value": 483
          }
        },
        "dd908f1c87ed40c1868206d734a02e63": {
          "model_module": "@jupyter-widgets/base",
          "model_module_version": "1.2.0",
          "model_name": "LayoutModel",
          "state": {
            "_model_module": "@jupyter-widgets/base",
            "_model_module_version": "1.2.0",
            "_model_name": "LayoutModel",
            "_view_count": null,
            "_view_module": "@jupyter-widgets/base",
            "_view_module_version": "1.2.0",
            "_view_name": "LayoutView",
            "align_content": null,
            "align_items": null,
            "align_self": null,
            "border": null,
            "bottom": null,
            "display": null,
            "flex": null,
            "flex_flow": null,
            "grid_area": null,
            "grid_auto_columns": null,
            "grid_auto_flow": null,
            "grid_auto_rows": null,
            "grid_column": null,
            "grid_gap": null,
            "grid_row": null,
            "grid_template_areas": null,
            "grid_template_columns": null,
            "grid_template_rows": null,
            "height": null,
            "justify_content": null,
            "justify_items": null,
            "left": null,
            "margin": null,
            "max_height": null,
            "max_width": null,
            "min_height": null,
            "min_width": null,
            "object_fit": null,
            "object_position": null,
            "order": null,
            "overflow": null,
            "overflow_x": null,
            "overflow_y": null,
            "padding": null,
            "right": null,
            "top": null,
            "visibility": null,
            "width": null
          }
        },
        "df2f0676b2004a3aa5234ff0acbc8fdc": {
          "model_module": "@jupyter-widgets/controls",
          "model_module_version": "1.5.0",
          "model_name": "DescriptionStyleModel",
          "state": {
            "_model_module": "@jupyter-widgets/controls",
            "_model_module_version": "1.5.0",
            "_model_name": "DescriptionStyleModel",
            "_view_count": null,
            "_view_module": "@jupyter-widgets/base",
            "_view_module_version": "1.2.0",
            "_view_name": "StyleView",
            "description_width": ""
          }
        },
        "e0ce7c789bae466294df9ae2390016ee": {
          "model_module": "@jupyter-widgets/base",
          "model_module_version": "1.2.0",
          "model_name": "LayoutModel",
          "state": {
            "_model_module": "@jupyter-widgets/base",
            "_model_module_version": "1.2.0",
            "_model_name": "LayoutModel",
            "_view_count": null,
            "_view_module": "@jupyter-widgets/base",
            "_view_module_version": "1.2.0",
            "_view_name": "LayoutView",
            "align_content": null,
            "align_items": null,
            "align_self": null,
            "border": null,
            "bottom": null,
            "display": null,
            "flex": null,
            "flex_flow": null,
            "grid_area": null,
            "grid_auto_columns": null,
            "grid_auto_flow": null,
            "grid_auto_rows": null,
            "grid_column": null,
            "grid_gap": null,
            "grid_row": null,
            "grid_template_areas": null,
            "grid_template_columns": null,
            "grid_template_rows": null,
            "height": null,
            "justify_content": null,
            "justify_items": null,
            "left": null,
            "margin": null,
            "max_height": null,
            "max_width": null,
            "min_height": null,
            "min_width": null,
            "object_fit": null,
            "object_position": null,
            "order": null,
            "overflow": null,
            "overflow_x": null,
            "overflow_y": null,
            "padding": null,
            "right": null,
            "top": null,
            "visibility": null,
            "width": null
          }
        },
        "e56225310d40490aacbeed68b109c339": {
          "model_module": "@jupyter-widgets/controls",
          "model_module_version": "1.5.0",
          "model_name": "HTMLModel",
          "state": {
            "_dom_classes": [],
            "_model_module": "@jupyter-widgets/controls",
            "_model_module_version": "1.5.0",
            "_model_name": "HTMLModel",
            "_view_count": null,
            "_view_module": "@jupyter-widgets/controls",
            "_view_module_version": "1.5.0",
            "_view_name": "HTMLView",
            "description": "",
            "description_tooltip": null,
            "layout": "IPY_MODEL_2c9e7107896e4b53aaaf7176ae3bee41",
            "placeholder": "​",
            "style": "IPY_MODEL_b32342335a5046edb964d589aa48feb1",
            "value": " 28.0/28.0 [00:00&lt;00:00, 426B/s]"
          }
        },
        "ea2f5f7af4fd40e0b21b61fbc84cf880": {
          "model_module": "@jupyter-widgets/controls",
          "model_module_version": "1.5.0",
          "model_name": "ProgressStyleModel",
          "state": {
            "_model_module": "@jupyter-widgets/controls",
            "_model_module_version": "1.5.0",
            "_model_name": "ProgressStyleModel",
            "_view_count": null,
            "_view_module": "@jupyter-widgets/base",
            "_view_module_version": "1.2.0",
            "_view_name": "StyleView",
            "bar_color": null,
            "description_width": ""
          }
        },
        "ed85a190acfa4048939c20bf8e2aaea8": {
          "model_module": "@jupyter-widgets/base",
          "model_module_version": "1.2.0",
          "model_name": "LayoutModel",
          "state": {
            "_model_module": "@jupyter-widgets/base",
            "_model_module_version": "1.2.0",
            "_model_name": "LayoutModel",
            "_view_count": null,
            "_view_module": "@jupyter-widgets/base",
            "_view_module_version": "1.2.0",
            "_view_name": "LayoutView",
            "align_content": null,
            "align_items": null,
            "align_self": null,
            "border": null,
            "bottom": null,
            "display": null,
            "flex": null,
            "flex_flow": null,
            "grid_area": null,
            "grid_auto_columns": null,
            "grid_auto_flow": null,
            "grid_auto_rows": null,
            "grid_column": null,
            "grid_gap": null,
            "grid_row": null,
            "grid_template_areas": null,
            "grid_template_columns": null,
            "grid_template_rows": null,
            "height": null,
            "justify_content": null,
            "justify_items": null,
            "left": null,
            "margin": null,
            "max_height": null,
            "max_width": null,
            "min_height": null,
            "min_width": null,
            "object_fit": null,
            "object_position": null,
            "order": null,
            "overflow": null,
            "overflow_x": null,
            "overflow_y": null,
            "padding": null,
            "right": null,
            "top": null,
            "visibility": null,
            "width": null
          }
        },
        "edd78b2ea00649369293384ed138d2c2": {
          "model_module": "@jupyter-widgets/controls",
          "model_module_version": "1.5.0",
          "model_name": "HTMLModel",
          "state": {
            "_dom_classes": [],
            "_model_module": "@jupyter-widgets/controls",
            "_model_module_version": "1.5.0",
            "_model_name": "HTMLModel",
            "_view_count": null,
            "_view_module": "@jupyter-widgets/controls",
            "_view_module_version": "1.5.0",
            "_view_name": "HTMLView",
            "description": "",
            "description_tooltip": null,
            "layout": "IPY_MODEL_edfa7306c04d4f84b895bbd7e2e163b9",
            "placeholder": "​",
            "style": "IPY_MODEL_c95fdeedff6c42e5be7ce9b1df5d1405",
            "value": " 500/500 [00:02&lt;00:00, 225.89 examples/s]"
          }
        },
        "edfa7306c04d4f84b895bbd7e2e163b9": {
          "model_module": "@jupyter-widgets/base",
          "model_module_version": "1.2.0",
          "model_name": "LayoutModel",
          "state": {
            "_model_module": "@jupyter-widgets/base",
            "_model_module_version": "1.2.0",
            "_model_name": "LayoutModel",
            "_view_count": null,
            "_view_module": "@jupyter-widgets/base",
            "_view_module_version": "1.2.0",
            "_view_name": "LayoutView",
            "align_content": null,
            "align_items": null,
            "align_self": null,
            "border": null,
            "bottom": null,
            "display": null,
            "flex": null,
            "flex_flow": null,
            "grid_area": null,
            "grid_auto_columns": null,
            "grid_auto_flow": null,
            "grid_auto_rows": null,
            "grid_column": null,
            "grid_gap": null,
            "grid_row": null,
            "grid_template_areas": null,
            "grid_template_columns": null,
            "grid_template_rows": null,
            "height": null,
            "justify_content": null,
            "justify_items": null,
            "left": null,
            "margin": null,
            "max_height": null,
            "max_width": null,
            "min_height": null,
            "min_width": null,
            "object_fit": null,
            "object_position": null,
            "order": null,
            "overflow": null,
            "overflow_x": null,
            "overflow_y": null,
            "padding": null,
            "right": null,
            "top": null,
            "visibility": null,
            "width": null
          }
        },
        "f77b84e2a4024abf9a30b2f978ab6e70": {
          "model_module": "@jupyter-widgets/controls",
          "model_module_version": "1.5.0",
          "model_name": "ProgressStyleModel",
          "state": {
            "_model_module": "@jupyter-widgets/controls",
            "_model_module_version": "1.5.0",
            "_model_name": "ProgressStyleModel",
            "_view_count": null,
            "_view_module": "@jupyter-widgets/base",
            "_view_module_version": "1.2.0",
            "_view_name": "StyleView",
            "bar_color": null,
            "description_width": ""
          }
        },
        "f7a020392faf4248868654bba155ad77": {
          "model_module": "@jupyter-widgets/base",
          "model_module_version": "1.2.0",
          "model_name": "LayoutModel",
          "state": {
            "_model_module": "@jupyter-widgets/base",
            "_model_module_version": "1.2.0",
            "_model_name": "LayoutModel",
            "_view_count": null,
            "_view_module": "@jupyter-widgets/base",
            "_view_module_version": "1.2.0",
            "_view_name": "LayoutView",
            "align_content": null,
            "align_items": null,
            "align_self": null,
            "border": null,
            "bottom": null,
            "display": null,
            "flex": null,
            "flex_flow": null,
            "grid_area": null,
            "grid_auto_columns": null,
            "grid_auto_flow": null,
            "grid_auto_rows": null,
            "grid_column": null,
            "grid_gap": null,
            "grid_row": null,
            "grid_template_areas": null,
            "grid_template_columns": null,
            "grid_template_rows": null,
            "height": null,
            "justify_content": null,
            "justify_items": null,
            "left": null,
            "margin": null,
            "max_height": null,
            "max_width": null,
            "min_height": null,
            "min_width": null,
            "object_fit": null,
            "object_position": null,
            "order": null,
            "overflow": null,
            "overflow_x": null,
            "overflow_y": null,
            "padding": null,
            "right": null,
            "top": null,
            "visibility": null,
            "width": null
          }
        },
        "fa3d37d80cc3452b91cc4e94a2702918": {
          "model_module": "@jupyter-widgets/base",
          "model_module_version": "1.2.0",
          "model_name": "LayoutModel",
          "state": {
            "_model_module": "@jupyter-widgets/base",
            "_model_module_version": "1.2.0",
            "_model_name": "LayoutModel",
            "_view_count": null,
            "_view_module": "@jupyter-widgets/base",
            "_view_module_version": "1.2.0",
            "_view_name": "LayoutView",
            "align_content": null,
            "align_items": null,
            "align_self": null,
            "border": null,
            "bottom": null,
            "display": null,
            "flex": null,
            "flex_flow": null,
            "grid_area": null,
            "grid_auto_columns": null,
            "grid_auto_flow": null,
            "grid_auto_rows": null,
            "grid_column": null,
            "grid_gap": null,
            "grid_row": null,
            "grid_template_areas": null,
            "grid_template_columns": null,
            "grid_template_rows": null,
            "height": null,
            "justify_content": null,
            "justify_items": null,
            "left": null,
            "margin": null,
            "max_height": null,
            "max_width": null,
            "min_height": null,
            "min_width": null,
            "object_fit": null,
            "object_position": null,
            "order": null,
            "overflow": null,
            "overflow_x": null,
            "overflow_y": null,
            "padding": null,
            "right": null,
            "top": null,
            "visibility": null,
            "width": null
          }
        }
      }
    }
  },
  "nbformat": 4,
  "nbformat_minor": 5
}
