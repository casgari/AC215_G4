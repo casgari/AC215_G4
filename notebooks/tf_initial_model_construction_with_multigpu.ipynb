{
  "cells": [
    {
      "cell_type": "code",
      "execution_count": null,
      "metadata": {
        "id": "hkOB3GFIZfL6"
      },
      "outputs": [],
      "source": [
        "# Transformers installation\n",
        "! pip install transformers datasets\n",
        "! pip install seqeval\n",
        "! pip install evaluate\n",
        "! pip install wandb\n",
        "\n",
        "import numpy as np"
      ]
    },
    {
      "cell_type": "markdown",
      "metadata": {
        "id": "WDfh1hzYm05B"
      },
      "source": [
        "# Preprocess Data\n"
      ]
    },
    {
      "cell_type": "markdown",
      "metadata": {
        "id": "yPzObVG7p_FG"
      },
      "source": [
        "## Load Tokenizer and Dataset\n",
        "\n",
        "Inspec Dataset has 3 datasets: train, test, and validation\n",
        "\n",
        "### Data Types\n",
        "\n",
        "*   train: [*sample*]\n",
        "*   *sample*: {\n",
        "  document: [string],\n",
        "  doc_bio_tags: [int]\n",
        "  }"
      ]
    },
    {
      "cell_type": "code",
      "execution_count": null,
      "metadata": {
        "colab": {
          "base_uri": "https://localhost:8080/"
        },
        "id": "8E1-Bd1wp-Sd",
        "outputId": "367066f0-b9da-4457-efc6-927bf485d137"
      },
      "outputs": [
        {
          "output_type": "stream",
          "name": "stderr",
          "text": [
            "Repo card metadata block was not found. Setting CardData to empty.\n",
            "WARNING:huggingface_hub.repocard:Repo card metadata block was not found. Setting CardData to empty.\n"
          ]
        }
      ],
      "source": [
        "from datasets import load_dataset\n",
        "\n",
        "inspec = load_dataset(\"midas/inspec\")"
      ]
    },
    {
      "cell_type": "code",
      "execution_count": null,
      "metadata": {
        "id": "3ZTw0ixTuh6n"
      },
      "outputs": [],
      "source": [
        "example = inspec[\"train\"][0]"
      ]
    },
    {
      "cell_type": "code",
      "execution_count": null,
      "metadata": {
        "id": "kktvb1p8rekX"
      },
      "outputs": [],
      "source": [
        "from transformers import AutoTokenizer\n",
        "\n",
        "tokenizer = AutoTokenizer.from_pretrained(\"distilbert-base-uncased\")"
      ]
    },
    {
      "cell_type": "markdown",
      "metadata": {
        "id": "iSL4LFrbqppm"
      },
      "source": [
        "## Preprocess\n",
        "\n",
        "We need to\n",
        "\n",
        "\n",
        "*   Convert words to tokens\n",
        "*   Realign the tokens and labels, since a single word may correspond to multiple tokens.\n",
        "*   Ignore the special tokens [CLS] and [SEP] in the loss function.\n",
        "*   Only label the first token of a given word, and assign -100 to the others.\n",
        "*   Convert doc_bio_tags to integers for classificatioon\n",
        "\n"
      ]
    },
    {
      "cell_type": "code",
      "execution_count": null,
      "metadata": {
        "colab": {
          "base_uri": "https://localhost:8080/"
        },
        "id": "mSoFJ1VQssxW",
        "outputId": "64f8bae5-ffe1-4562-ae4c-2db4c46a4560"
      },
      "outputs": [
        {
          "output_type": "stream",
          "name": "stdout",
          "text": [
            "Mapping doc_bio_tag to integer:\n",
            "\n",
            " {'B': 0, 'I': 1, 'O': 2}\n",
            "\n",
            "Mapping integer to doc_bio_tag:\n",
            "\n",
            " {0: 'B', 1: 'I', 2: 'O'}\n"
          ]
        }
      ],
      "source": [
        "label_list = np.unique(example[\"doc_bio_tags\"])\n",
        "\n",
        "id2label = {i: label for i, label in enumerate(label_list)}\n",
        "label2id = {v: k for k, v in id2label.items()}\n",
        "\n",
        "print('Mapping doc_bio_tag to integer:\\n\\n',label2id)\n",
        "print('\\nMapping integer to doc_bio_tag:\\n\\n',id2label)"
      ]
    },
    {
      "cell_type": "code",
      "execution_count": null,
      "metadata": {
        "id": "-_AHHHJ-p5GU"
      },
      "outputs": [],
      "source": [
        "def tokenize_and_align_labels(examples):\n",
        "    tokenized_inputs = tokenizer(examples[\"document\"], truncation=True, is_split_into_words=True)\n",
        "\n",
        "    labels = []\n",
        "    for i, label in enumerate(examples[f\"doc_bio_tags\"]):\n",
        "        word_ids = tokenized_inputs.word_ids(batch_index=i)  # Map tokens to their respective word.\n",
        "        previous_word_idx = None\n",
        "        label_ids = []\n",
        "        for word_idx in word_ids:  # Set the special tokens to -100.\n",
        "            if word_idx is None:\n",
        "                label_ids.append(-100)\n",
        "            elif word_idx != previous_word_idx:  # Only label the first token of a given word.\n",
        "                label_ids.append(label2id[label[word_idx]]) # Convert BIO to integers for classification\n",
        "            else:\n",
        "                label_ids.append(-100)\n",
        "            previous_word_idx = word_idx\n",
        "        labels.append(label_ids)\n",
        "\n",
        "    tokenized_inputs[\"labels\"] = labels\n",
        "    return tokenized_inputs"
      ]
    },
    {
      "cell_type": "code",
      "execution_count": null,
      "metadata": {
        "colab": {
          "base_uri": "https://localhost:8080/",
          "height": 49,
          "referenced_widgets": [
            "4df3e8631b6548ff828236449dc4906a",
            "d81f5946312142d3a377f750e0b926eb",
            "b7fed7c3acc14c3c9ff8f343b4866908",
            "c975863ca3334e85928794fbb4b93116",
            "5bab31dce7c74669a01b0ffa56038ee6",
            "c5ffa82825e249c9bdfdab436f995d53",
            "a87d6f02faec402a9d4fc575038b8556",
            "2ffdd376f1774cd08fca8e82f7fcfed2",
            "c6fd57fbc8da41b1b130340989d82157",
            "e2016e9d88b14d4bbb3821ca69f72668",
            "2fba5100cae3426cb8665bc4e5842ed3"
          ]
        },
        "id": "D2BEkvIPtx6g",
        "outputId": "3e2ac7fe-6e16-4b89-979d-46782331ad45"
      },
      "outputs": [
        {
          "output_type": "display_data",
          "data": {
            "text/plain": [
              "Map:   0%|          | 0/500 [00:00<?, ? examples/s]"
            ],
            "application/vnd.jupyter.widget-view+json": {
              "version_major": 2,
              "version_minor": 0,
              "model_id": "4df3e8631b6548ff828236449dc4906a"
            }
          },
          "metadata": {}
        }
      ],
      "source": [
        "# This is our tokenized dataset (a data_dict which we will convert to a TF Dataset)\n",
        "tokenized_inspec = inspec.map(tokenize_and_align_labels, batched=True)"
      ]
    },
    {
      "cell_type": "markdown",
      "metadata": {
        "id": "_IiJTTP4t8xt"
      },
      "source": [
        "## Utils for Training"
      ]
    },
    {
      "cell_type": "code",
      "execution_count": null,
      "metadata": {
        "id": "p4NKR7RIt2qH"
      },
      "outputs": [],
      "source": [
        "from transformers import DataCollatorForTokenClassification\n",
        "\n",
        "data_collator = DataCollatorForTokenClassification(tokenizer=tokenizer, return_tensors=\"tf\")"
      ]
    },
    {
      "cell_type": "code",
      "execution_count": null,
      "metadata": {
        "id": "K6XOazzAt5pQ"
      },
      "outputs": [],
      "source": [
        "import evaluate\n",
        "\n",
        "seqeval = evaluate.load(\"seqeval\")"
      ]
    },
    {
      "cell_type": "code",
      "execution_count": null,
      "metadata": {
        "id": "UVVE5fmpuBFl"
      },
      "outputs": [],
      "source": [
        "labels = example[f\"doc_bio_tags\"]\n",
        "\n",
        "\n",
        "def compute_metrics(p):\n",
        "    predictions, labels = p\n",
        "    predictions = np.argmax(predictions, axis=2)\n",
        "\n",
        "    true_predictions = [\n",
        "        [id2label[p] for (p, l) in zip(prediction, label) if l != -100]\n",
        "        for prediction, label in zip(predictions, labels)\n",
        "    ]\n",
        "    true_labels = [\n",
        "        [id2label[l] for (p, l) in zip(prediction, label) if l != -100]\n",
        "        for prediction, label in zip(predictions, labels)\n",
        "    ]\n",
        "\n",
        "    results = seqeval.compute(predictions=true_predictions, references=true_labels)\n",
        "    log_results = {\n",
        "        \"precision\": results[\"overall_precision\"],\n",
        "        \"recall\": results[\"overall_recall\"],\n",
        "        \"f1\": results[\"overall_f1\"],\n",
        "        \"accuracy\": results[\"overall_accuracy\"],\n",
        "    }\n",
        "    wandb.log(log_results)\n",
        "\n",
        "    return log_results"
      ]
    },
    {
      "cell_type": "markdown",
      "source": [
        "## Experiment Tracking with W&B"
      ],
      "metadata": {
        "id": "QgYDlvLwYjPf"
      }
    },
    {
      "cell_type": "code",
      "source": [
        "import wandb\n",
        "\n",
        "wandb.login()\n",
        "wandb.init(project=\"ppp-keyword-extraction\")"
      ],
      "metadata": {
        "colab": {
          "base_uri": "https://localhost:8080/",
          "height": 164
        },
        "id": "rP_-E9lXYndR",
        "outputId": "70cfaa8d-666c-494f-e99c-831b1dadaf3c"
      },
      "execution_count": null,
      "outputs": [
        {
          "output_type": "stream",
          "name": "stderr",
          "text": [
            "\u001b[34m\u001b[1mwandb\u001b[0m: Currently logged in as: \u001b[33mwarrensw\u001b[0m (\u001b[33mac215-ppp\u001b[0m). Use \u001b[1m`wandb login --relogin`\u001b[0m to force relogin\n"
          ]
        },
        {
          "output_type": "display_data",
          "data": {
            "text/plain": [
              "<IPython.core.display.HTML object>"
            ],
            "text/html": [
              "Tracking run with wandb version 0.15.12"
            ]
          },
          "metadata": {}
        },
        {
          "output_type": "display_data",
          "data": {
            "text/plain": [
              "<IPython.core.display.HTML object>"
            ],
            "text/html": [
              "Run data is saved locally in <code>/content/wandb/run-20231005_221443-t7skhhbs</code>"
            ]
          },
          "metadata": {}
        },
        {
          "output_type": "display_data",
          "data": {
            "text/plain": [
              "<IPython.core.display.HTML object>"
            ],
            "text/html": [
              "Syncing run <strong><a href='https://wandb.ai/ac215-ppp/ppp-keyword-extraction/runs/t7skhhbs' target=\"_blank\">worthy-music-13</a></strong> to <a href='https://wandb.ai/ac215-ppp/ppp-keyword-extraction' target=\"_blank\">Weights & Biases</a> (<a href='https://wandb.me/run' target=\"_blank\">docs</a>)<br/>"
            ]
          },
          "metadata": {}
        },
        {
          "output_type": "display_data",
          "data": {
            "text/plain": [
              "<IPython.core.display.HTML object>"
            ],
            "text/html": [
              " View project at <a href='https://wandb.ai/ac215-ppp/ppp-keyword-extraction' target=\"_blank\">https://wandb.ai/ac215-ppp/ppp-keyword-extraction</a>"
            ]
          },
          "metadata": {}
        },
        {
          "output_type": "display_data",
          "data": {
            "text/plain": [
              "<IPython.core.display.HTML object>"
            ],
            "text/html": [
              " View run at <a href='https://wandb.ai/ac215-ppp/ppp-keyword-extraction/runs/t7skhhbs' target=\"_blank\">https://wandb.ai/ac215-ppp/ppp-keyword-extraction/runs/t7skhhbs</a>"
            ]
          },
          "metadata": {}
        },
        {
          "output_type": "execute_result",
          "data": {
            "text/html": [
              "<button onClick=\"this.nextSibling.style.display='block';this.style.display='none';\">Display W&B run</button><iframe src='https://wandb.ai/ac215-ppp/ppp-keyword-extraction/runs/t7skhhbs?jupyter=true' style='border:none;width:100%;height:420px;display:none;'></iframe>"
            ],
            "text/plain": [
              "<wandb.sdk.wandb_run.Run at 0x7854b9360340>"
            ]
          },
          "metadata": {},
          "execution_count": 11
        }
      ]
    },
    {
      "cell_type": "markdown",
      "metadata": {
        "id": "O1OfhrEv54AS"
      },
      "source": [
        "## Train with multi-GPU\n",
        "Reference: https://saturncloud.io/docs/examples/python/tensorflow/qs-multi-gpu-tensorflow/"
      ]
    },
    {
      "cell_type": "code",
      "execution_count": null,
      "metadata": {
        "id": "xG7nFzdz56J0"
      },
      "outputs": [],
      "source": [
        "import tensorflow as tf\n",
        "import keras\n",
        "import time\n",
        "from transformers import TFAutoModelForTokenClassification\n",
        "from transformers.keras_callbacks import KerasMetricCallback\n",
        "from transformers import create_optimizer\n",
        "\n",
        "def train_multigpu(n_epochs, base_lr, batchsize):\n",
        "    num_train_steps = (len(tokenized_inspec[\"train\"]) // batchsize) * n_epochs\n",
        "\n",
        "    # Set up for multi-GPU training\n",
        "    strategy = tf.distribute.MirroredStrategy()\n",
        "    print(\"Number of devices: %d\" % strategy.num_replicas_in_sync)\n",
        "\n",
        "    with strategy.scope():\n",
        "        model = TFAutoModelForTokenClassification.from_pretrained(\n",
        "                  \"distilbert-base-uncased\", num_labels=3, id2label=id2label, label2id=label2id)\n",
        "\n",
        "        # We define our own optimizer (and lr_schedule which we do not use)\n",
        "        optimizer, lr_schedule = create_optimizer(\n",
        "                                                  init_lr=2e-5,\n",
        "                                                  num_train_steps=num_train_steps,\n",
        "                                                  weight_decay_rate=0.01,\n",
        "                                                  num_warmup_steps=0,\n",
        "                                                 )\n",
        "        # The model is ready for training\n",
        "        model.compile(optimizer=optimizer, metrics=[\"accuracy\"])\n",
        "\n",
        "    # Load in our data as TF Datasets (with data_collator applied)\n",
        "    train_ds = model.prepare_tf_dataset(\n",
        "                                        tokenized_inspec[\"train\"],\n",
        "                                        shuffle=True,\n",
        "                                        batch_size=batchsize,\n",
        "                                        collate_fn=data_collator,\n",
        "                                       ).prefetch(2).cache().shuffle(1000)\n",
        "\n",
        "    valid_ds = model.prepare_tf_dataset(\n",
        "                                        tokenized_inspec[\"validation\"],\n",
        "                                        shuffle=False,\n",
        "                                        batch_size=batchsize,\n",
        "                                        collate_fn=data_collator,\n",
        "                                       ).prefetch(2)\n",
        "\n",
        "    # Set up a callback for metrics at the end of every epoch\n",
        "    metric_callback = KerasMetricCallback(metric_fn=compute_metrics, eval_dataset=valid_ds)\n",
        "    callbacks = [metric_callback]\n",
        "\n",
        "    # Run training\n",
        "    start = time.time()\n",
        "\n",
        "    model.fit(x=train_ds, validation_data=valid_ds, epochs=n_epochs, callbacks=callbacks)\n",
        "\n",
        "    end = time.time() - start\n",
        "    print(\"model training time\", end)\n",
        "\n",
        "    # Save the trained model\n",
        "    path = \"model/keras_multi/\"\n",
        "    tf.keras.models.save_model(model, path)\n",
        "    print(f\"Saved model to {path}\")"
      ]
    },
    {
      "cell_type": "code",
      "execution_count": null,
      "metadata": {
        "colab": {
          "base_uri": "https://localhost:8080/"
        },
        "id": "U_h9YmXB7gG5",
        "outputId": "681d6f94-b85d-4fb3-8971-abe5991c39ff"
      },
      "outputs": [
        {
          "output_type": "stream",
          "name": "stdout",
          "text": [
            "Number of devices: 1\n"
          ]
        },
        {
          "output_type": "stream",
          "name": "stderr",
          "text": [
            "Some weights of the PyTorch model were not used when initializing the TF 2.0 model TFDistilBertForTokenClassification: ['vocab_layer_norm.bias', 'vocab_projector.bias', 'vocab_transform.bias', 'vocab_transform.weight', 'vocab_layer_norm.weight']\n",
            "- This IS expected if you are initializing TFDistilBertForTokenClassification from a PyTorch model trained on another task or with another architecture (e.g. initializing a TFBertForSequenceClassification model from a BertForPreTraining model).\n",
            "- This IS NOT expected if you are initializing TFDistilBertForTokenClassification from a PyTorch model that you expect to be exactly identical (e.g. initializing a TFBertForSequenceClassification model from a BertForSequenceClassification model).\n",
            "Some weights or buffers of the TF 2.0 model TFDistilBertForTokenClassification were not initialized from the PyTorch model and are newly initialized: ['classifier.weight', 'classifier.bias']\n",
            "You should probably TRAIN this model on a down-stream task to be able to use it for predictions and inference.\n",
            "You're using a DistilBertTokenizerFast tokenizer. Please note that with a fast tokenizer, using the `__call__` method is faster than using a method to encode the text followed by a call to the `pad` method to get a padded encoding.\n"
          ]
        },
        {
          "output_type": "stream",
          "name": "stdout",
          "text": [
            "Epoch 1/3\n",
            " 6/62 [=>............................] - ETA: 35s - loss: 0.7634 - accuracy: 0.3013"
          ]
        },
        {
          "output_type": "stream",
          "name": "stderr",
          "text": [
            "WARNING:tensorflow:Callback method `on_train_batch_end` is slow compared to the batch time (batch time: 0.2831s vs `on_train_batch_end` time: 0.2964s). Check your callbacks.\n"
          ]
        },
        {
          "output_type": "stream",
          "name": "stdout",
          "text": [
            "62/62 [==============================] - 93s 1s/step - loss: 0.3689 - accuracy: 0.8864 - val_loss: 0.2480 - val_accuracy: 0.3638 - precision: 0.2105 - recall: 0.1937 - f1: 0.2017\n",
            "Epoch 2/3\n",
            "62/62 [==============================] - 59s 945ms/step - loss: 0.2303 - accuracy: 0.8946 - val_loss: 0.2243 - val_accuracy: 0.3672 - precision: 0.3401 - recall: 0.3678 - f1: 0.3534\n",
            "Epoch 3/3\n",
            "62/62 [==============================] - 59s 957ms/step - loss: 0.2115 - accuracy: 0.8972 - val_loss: 0.2193 - val_accuracy: 0.3682 - precision: 0.3637 - recall: 0.4111 - f1: 0.3860\n",
            "model training time 234.77801513671875\n"
          ]
        },
        {
          "output_type": "stream",
          "name": "stderr",
          "text": [
            "WARNING:tensorflow:Skipping full serialization of Keras layer <keras.src.layers.regularization.dropout.Dropout object at 0x7854bba6d2a0>, because it is not built.\n",
            "WARNING:tensorflow:Skipping full serialization of Keras layer <keras.src.layers.regularization.dropout.Dropout object at 0x7854b938e080>, because it is not built.\n",
            "WARNING:tensorflow:Skipping full serialization of Keras layer <keras.src.layers.regularization.dropout.Dropout object at 0x7854b9363df0>, because it is not built.\n",
            "WARNING:tensorflow:Skipping full serialization of Keras layer <keras.src.layers.regularization.dropout.Dropout object at 0x7855a87916f0>, because it is not built.\n",
            "WARNING:tensorflow:Skipping full serialization of Keras layer <keras.src.layers.regularization.dropout.Dropout object at 0x78548ef813f0>, because it is not built.\n",
            "WARNING:tensorflow:Skipping full serialization of Keras layer <keras.src.layers.regularization.dropout.Dropout object at 0x78548ef83fa0>, because it is not built.\n"
          ]
        }
      ],
      "source": [
        "# Call the training function with specified parameters\n",
        "model_params = {\n",
        "    \"n_epochs\": 3,\n",
        "    \"base_lr\": 2e-5,\n",
        "    \"batchsize\": 16\n",
        "}\n",
        "\n",
        "tester_plain = train_multigpu(**model_params)"
      ]
    },
    {
      "cell_type": "markdown",
      "source": [
        "## Test dataset (ignore for now)"
      ],
      "metadata": {
        "id": "Ts6aEfQw4oKx"
      }
    },
    {
      "cell_type": "code",
      "execution_count": null,
      "metadata": {
        "id": "vFIhui7cvt1C"
      },
      "outputs": [],
      "source": [
        "from transformers import pipeline\n",
        "\n",
        "from transformers.modeling_tf_utils import load_tf_weights\n",
        "\n",
        "num_train_steps = (len(tokenized_inspec[\"train\"]) // model_params[\"batchsize\"]) * model_params[\"n_epochs\"]\n",
        "\n",
        "optimizer, lr_schedule = create_optimizer(\n",
        "                                          init_lr=2e-5,\n",
        "                                          num_train_steps=num_train_steps,\n",
        "                                          weight_decay_rate=0.01,\n",
        "                                          num_warmup_steps=0,\n",
        "                                         )\n",
        "custom_objects = {\n",
        "            \"optimizer\": optimizer\n",
        "}\n",
        "\n",
        "model = tf.keras.models.load_model(\"model/keras_multi/\", custom_objects)\n",
        "\n",
        "text = \"The Golden State Warriors are an American professional basketball team based in San Francisco.\"\n",
        "classifier = pipeline(\"ner\", model=model)\n",
        "classifier(text)"
      ]
    }
  ],
  "metadata": {
    "accelerator": "GPU",
    "colab": {
      "provenance": [],
      "collapsed_sections": [
        "Ts6aEfQw4oKx"
      ]
    },
    "kernelspec": {
      "display_name": "Python 3",
      "name": "python3"
    },
    "language_info": {
      "name": "python"
    },
    "widgets": {
      "application/vnd.jupyter.widget-state+json": {
        "4df3e8631b6548ff828236449dc4906a": {
          "model_module": "@jupyter-widgets/controls",
          "model_name": "HBoxModel",
          "model_module_version": "1.5.0",
          "state": {
            "_dom_classes": [],
            "_model_module": "@jupyter-widgets/controls",
            "_model_module_version": "1.5.0",
            "_model_name": "HBoxModel",
            "_view_count": null,
            "_view_module": "@jupyter-widgets/controls",
            "_view_module_version": "1.5.0",
            "_view_name": "HBoxView",
            "box_style": "",
            "children": [
              "IPY_MODEL_d81f5946312142d3a377f750e0b926eb",
              "IPY_MODEL_b7fed7c3acc14c3c9ff8f343b4866908",
              "IPY_MODEL_c975863ca3334e85928794fbb4b93116"
            ],
            "layout": "IPY_MODEL_5bab31dce7c74669a01b0ffa56038ee6"
          }
        },
        "d81f5946312142d3a377f750e0b926eb": {
          "model_module": "@jupyter-widgets/controls",
          "model_name": "HTMLModel",
          "model_module_version": "1.5.0",
          "state": {
            "_dom_classes": [],
            "_model_module": "@jupyter-widgets/controls",
            "_model_module_version": "1.5.0",
            "_model_name": "HTMLModel",
            "_view_count": null,
            "_view_module": "@jupyter-widgets/controls",
            "_view_module_version": "1.5.0",
            "_view_name": "HTMLView",
            "description": "",
            "description_tooltip": null,
            "layout": "IPY_MODEL_c5ffa82825e249c9bdfdab436f995d53",
            "placeholder": "​",
            "style": "IPY_MODEL_a87d6f02faec402a9d4fc575038b8556",
            "value": "Map: 100%"
          }
        },
        "b7fed7c3acc14c3c9ff8f343b4866908": {
          "model_module": "@jupyter-widgets/controls",
          "model_name": "FloatProgressModel",
          "model_module_version": "1.5.0",
          "state": {
            "_dom_classes": [],
            "_model_module": "@jupyter-widgets/controls",
            "_model_module_version": "1.5.0",
            "_model_name": "FloatProgressModel",
            "_view_count": null,
            "_view_module": "@jupyter-widgets/controls",
            "_view_module_version": "1.5.0",
            "_view_name": "ProgressView",
            "bar_style": "success",
            "description": "",
            "description_tooltip": null,
            "layout": "IPY_MODEL_2ffdd376f1774cd08fca8e82f7fcfed2",
            "max": 500,
            "min": 0,
            "orientation": "horizontal",
            "style": "IPY_MODEL_c6fd57fbc8da41b1b130340989d82157",
            "value": 500
          }
        },
        "c975863ca3334e85928794fbb4b93116": {
          "model_module": "@jupyter-widgets/controls",
          "model_name": "HTMLModel",
          "model_module_version": "1.5.0",
          "state": {
            "_dom_classes": [],
            "_model_module": "@jupyter-widgets/controls",
            "_model_module_version": "1.5.0",
            "_model_name": "HTMLModel",
            "_view_count": null,
            "_view_module": "@jupyter-widgets/controls",
            "_view_module_version": "1.5.0",
            "_view_name": "HTMLView",
            "description": "",
            "description_tooltip": null,
            "layout": "IPY_MODEL_e2016e9d88b14d4bbb3821ca69f72668",
            "placeholder": "​",
            "style": "IPY_MODEL_2fba5100cae3426cb8665bc4e5842ed3",
            "value": " 500/500 [00:00&lt;00:00, 802.96 examples/s]"
          }
        },
        "5bab31dce7c74669a01b0ffa56038ee6": {
          "model_module": "@jupyter-widgets/base",
          "model_name": "LayoutModel",
          "model_module_version": "1.2.0",
          "state": {
            "_model_module": "@jupyter-widgets/base",
            "_model_module_version": "1.2.0",
            "_model_name": "LayoutModel",
            "_view_count": null,
            "_view_module": "@jupyter-widgets/base",
            "_view_module_version": "1.2.0",
            "_view_name": "LayoutView",
            "align_content": null,
            "align_items": null,
            "align_self": null,
            "border": null,
            "bottom": null,
            "display": null,
            "flex": null,
            "flex_flow": null,
            "grid_area": null,
            "grid_auto_columns": null,
            "grid_auto_flow": null,
            "grid_auto_rows": null,
            "grid_column": null,
            "grid_gap": null,
            "grid_row": null,
            "grid_template_areas": null,
            "grid_template_columns": null,
            "grid_template_rows": null,
            "height": null,
            "justify_content": null,
            "justify_items": null,
            "left": null,
            "margin": null,
            "max_height": null,
            "max_width": null,
            "min_height": null,
            "min_width": null,
            "object_fit": null,
            "object_position": null,
            "order": null,
            "overflow": null,
            "overflow_x": null,
            "overflow_y": null,
            "padding": null,
            "right": null,
            "top": null,
            "visibility": null,
            "width": null
          }
        },
        "c5ffa82825e249c9bdfdab436f995d53": {
          "model_module": "@jupyter-widgets/base",
          "model_name": "LayoutModel",
          "model_module_version": "1.2.0",
          "state": {
            "_model_module": "@jupyter-widgets/base",
            "_model_module_version": "1.2.0",
            "_model_name": "LayoutModel",
            "_view_count": null,
            "_view_module": "@jupyter-widgets/base",
            "_view_module_version": "1.2.0",
            "_view_name": "LayoutView",
            "align_content": null,
            "align_items": null,
            "align_self": null,
            "border": null,
            "bottom": null,
            "display": null,
            "flex": null,
            "flex_flow": null,
            "grid_area": null,
            "grid_auto_columns": null,
            "grid_auto_flow": null,
            "grid_auto_rows": null,
            "grid_column": null,
            "grid_gap": null,
            "grid_row": null,
            "grid_template_areas": null,
            "grid_template_columns": null,
            "grid_template_rows": null,
            "height": null,
            "justify_content": null,
            "justify_items": null,
            "left": null,
            "margin": null,
            "max_height": null,
            "max_width": null,
            "min_height": null,
            "min_width": null,
            "object_fit": null,
            "object_position": null,
            "order": null,
            "overflow": null,
            "overflow_x": null,
            "overflow_y": null,
            "padding": null,
            "right": null,
            "top": null,
            "visibility": null,
            "width": null
          }
        },
        "a87d6f02faec402a9d4fc575038b8556": {
          "model_module": "@jupyter-widgets/controls",
          "model_name": "DescriptionStyleModel",
          "model_module_version": "1.5.0",
          "state": {
            "_model_module": "@jupyter-widgets/controls",
            "_model_module_version": "1.5.0",
            "_model_name": "DescriptionStyleModel",
            "_view_count": null,
            "_view_module": "@jupyter-widgets/base",
            "_view_module_version": "1.2.0",
            "_view_name": "StyleView",
            "description_width": ""
          }
        },
        "2ffdd376f1774cd08fca8e82f7fcfed2": {
          "model_module": "@jupyter-widgets/base",
          "model_name": "LayoutModel",
          "model_module_version": "1.2.0",
          "state": {
            "_model_module": "@jupyter-widgets/base",
            "_model_module_version": "1.2.0",
            "_model_name": "LayoutModel",
            "_view_count": null,
            "_view_module": "@jupyter-widgets/base",
            "_view_module_version": "1.2.0",
            "_view_name": "LayoutView",
            "align_content": null,
            "align_items": null,
            "align_self": null,
            "border": null,
            "bottom": null,
            "display": null,
            "flex": null,
            "flex_flow": null,
            "grid_area": null,
            "grid_auto_columns": null,
            "grid_auto_flow": null,
            "grid_auto_rows": null,
            "grid_column": null,
            "grid_gap": null,
            "grid_row": null,
            "grid_template_areas": null,
            "grid_template_columns": null,
            "grid_template_rows": null,
            "height": null,
            "justify_content": null,
            "justify_items": null,
            "left": null,
            "margin": null,
            "max_height": null,
            "max_width": null,
            "min_height": null,
            "min_width": null,
            "object_fit": null,
            "object_position": null,
            "order": null,
            "overflow": null,
            "overflow_x": null,
            "overflow_y": null,
            "padding": null,
            "right": null,
            "top": null,
            "visibility": null,
            "width": null
          }
        },
        "c6fd57fbc8da41b1b130340989d82157": {
          "model_module": "@jupyter-widgets/controls",
          "model_name": "ProgressStyleModel",
          "model_module_version": "1.5.0",
          "state": {
            "_model_module": "@jupyter-widgets/controls",
            "_model_module_version": "1.5.0",
            "_model_name": "ProgressStyleModel",
            "_view_count": null,
            "_view_module": "@jupyter-widgets/base",
            "_view_module_version": "1.2.0",
            "_view_name": "StyleView",
            "bar_color": null,
            "description_width": ""
          }
        },
        "e2016e9d88b14d4bbb3821ca69f72668": {
          "model_module": "@jupyter-widgets/base",
          "model_name": "LayoutModel",
          "model_module_version": "1.2.0",
          "state": {
            "_model_module": "@jupyter-widgets/base",
            "_model_module_version": "1.2.0",
            "_model_name": "LayoutModel",
            "_view_count": null,
            "_view_module": "@jupyter-widgets/base",
            "_view_module_version": "1.2.0",
            "_view_name": "LayoutView",
            "align_content": null,
            "align_items": null,
            "align_self": null,
            "border": null,
            "bottom": null,
            "display": null,
            "flex": null,
            "flex_flow": null,
            "grid_area": null,
            "grid_auto_columns": null,
            "grid_auto_flow": null,
            "grid_auto_rows": null,
            "grid_column": null,
            "grid_gap": null,
            "grid_row": null,
            "grid_template_areas": null,
            "grid_template_columns": null,
            "grid_template_rows": null,
            "height": null,
            "justify_content": null,
            "justify_items": null,
            "left": null,
            "margin": null,
            "max_height": null,
            "max_width": null,
            "min_height": null,
            "min_width": null,
            "object_fit": null,
            "object_position": null,
            "order": null,
            "overflow": null,
            "overflow_x": null,
            "overflow_y": null,
            "padding": null,
            "right": null,
            "top": null,
            "visibility": null,
            "width": null
          }
        },
        "2fba5100cae3426cb8665bc4e5842ed3": {
          "model_module": "@jupyter-widgets/controls",
          "model_name": "DescriptionStyleModel",
          "model_module_version": "1.5.0",
          "state": {
            "_model_module": "@jupyter-widgets/controls",
            "_model_module_version": "1.5.0",
            "_model_name": "DescriptionStyleModel",
            "_view_count": null,
            "_view_module": "@jupyter-widgets/base",
            "_view_module_version": "1.2.0",
            "_view_name": "StyleView",
            "description_width": ""
          }
        }
      }
    }
  },
  "nbformat": 4,
  "nbformat_minor": 0
}